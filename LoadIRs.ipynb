{
  "nbformat": 4,
  "nbformat_minor": 0,
  "metadata": {
    "colab": {
      "name": "LoadIRs.ipynb",
      "provenance": [],
      "collapsed_sections": [],
      "authorship_tag": "ABX9TyM9zzN7EmEZl739xpMT8M4b",
      "include_colab_link": true
    },
    "kernelspec": {
      "name": "python3",
      "display_name": "Python 3"
    },
    "language_info": {
      "name": "python"
    }
  },
  "cells": [
    {
      "cell_type": "markdown",
      "metadata": {
        "id": "view-in-github",
        "colab_type": "text"
      },
      "source": [
        "<a href=\"https://colab.research.google.com/github/jakobatgithub/unreverb/blob/main/LoadIRs.ipynb\" target=\"_parent\"><img src=\"https://colab.research.google.com/assets/colab-badge.svg\" alt=\"Open In Colab\"/></a>"
      ]
    },
    {
      "cell_type": "code",
      "execution_count": 1,
      "metadata": {
        "colab": {
          "base_uri": "https://localhost:8080/"
        },
        "id": "2tO0NiJdx4Rm",
        "outputId": "f109e4cf-dab0-41f4-a78e-489459fac84c"
      },
      "outputs": [
        {
          "output_type": "stream",
          "name": "stdout",
          "text": [
            "Mounted at /content/drive\n"
          ]
        }
      ],
      "source": [
        "from google.colab import drive\n",
        "drive.mount('/content/drive')"
      ]
    },
    {
      "cell_type": "code",
      "source": [
        "#import glob, os, shutil\n",
        "\n",
        "#ir_base_path = '/content/drive/My Drive/dsr_project/data/samplicity-ir/'\n",
        "#irpaths = glob.glob(ir_base_path + '*/*M-to-S.wav')\n",
        "#irpaths = irpaths[:101 + 1]\n",
        "\n",
        "#path = '/content/drive/My Drive/dsr_project/data/HarvardWordList/'\n",
        "#save_path = path + 'datasets/'\n",
        "#for iridx in range(len(irpaths)):\n",
        "#  tot_save_path = save_path + 'IR_' + str(iridx) + '_' + irpaths[iridx].split('/')[-1]\n",
        "#  shutil.copy(irpaths[iridx], tot_save_path)\n"
      ],
      "metadata": {
        "id": "tiHRsytEza4c"
      },
      "execution_count": 8,
      "outputs": []
    },
    {
      "cell_type": "code",
      "source": [
        "import glob, os\n",
        "import numpy as np\n",
        "import librosa\n",
        "\n",
        "sample_rate = 2**14\n",
        "\n",
        "# load data\n",
        "path = '/content/drive/My Drive/dsr_project/data/but-czas_v1.0/'\n",
        "save_path = path + 'datasets_M/'\n",
        "\n",
        "irpaths = glob.glob(save_path + 'IR_*.wav')\n",
        "\n",
        "irs = []\n",
        "for irpath in irpaths:\n",
        "  ir, IR_sample_rate = librosa.load(irpath, sr=sample_rate)\n",
        "  irs.append(ir)\n",
        "\n",
        "all_lengths = []\n",
        "for ir in irs:\n",
        "  all_lengths.append(len(ir))\n",
        "\n",
        "max_length = max(all_lengths)    "
      ],
      "metadata": {
        "id": "vd1eAoRJyHul"
      },
      "execution_count": 2,
      "outputs": []
    },
    {
      "cell_type": "code",
      "source": [
        "probs = np.random.uniform(low=0, high=1, size=len(irs))\n",
        "probs = probs/sum(probs)\n",
        "\n",
        "my_sum = np.zeros(max_length)\n",
        "for idx in range(len(irs)):\n",
        "  ir = np.hstack((irs[idx], np.zeros(max_length - len(irs[idx]))))\n",
        "  my_sum = my_sum + probs[idx]*ir\n",
        "  \n",
        "my_sum"
      ],
      "metadata": {
        "colab": {
          "base_uri": "https://localhost:8080/"
        },
        "id": "eL7dWSx91gpW",
        "outputId": "cdd6b2a4-26b2-437a-e1b7-1556993fc06d"
      },
      "execution_count": 3,
      "outputs": [
        {
          "output_type": "execute_result",
          "data": {
            "text/plain": [
              "array([-6.70267830e-04, -1.11849298e-03, -1.11519718e-03, ...,\n",
              "        1.56612164e-12, -1.35557474e-13,  0.00000000e+00])"
            ]
          },
          "metadata": {},
          "execution_count": 3
        }
      ]
    }
  ]
}