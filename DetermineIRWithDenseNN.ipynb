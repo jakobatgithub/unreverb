{
  "nbformat": 4,
  "nbformat_minor": 0,
  "metadata": {
    "colab": {
      "name": "DetermineIRWithDenseNN.ipynb",
      "provenance": [],
      "collapsed_sections": [],
      "mount_file_id": "1SRUKY4yx8QV3in901ypooX29d5Xl-1eH",
      "authorship_tag": "ABX9TyOHpFIGkZe5YDfMAhv0pCTr",
      "include_colab_link": true
    },
    "kernelspec": {
      "name": "python3",
      "display_name": "Python 3"
    },
    "language_info": {
      "name": "python"
    },
    "accelerator": "GPU"
  },
  "cells": [
    {
      "cell_type": "markdown",
      "metadata": {
        "id": "view-in-github",
        "colab_type": "text"
      },
      "source": [
        "<a href=\"https://colab.research.google.com/github/jakobatgithub/unreverb/blob/main/DetermineIRWithDenseNN.ipynb\" target=\"_parent\"><img src=\"https://colab.research.google.com/assets/colab-badge.svg\" alt=\"Open In Colab\"/></a>"
      ]
    },
    {
      "cell_type": "code",
      "source": [
        "!pip install rir_generator"
      ],
      "metadata": {
        "colab": {
          "base_uri": "https://localhost:8080/"
        },
        "id": "9hFRUmeB5ONY",
        "outputId": "8dcd1689-b432-48f6-ca38-4e2ae9edc7f5"
      },
      "execution_count": 8,
      "outputs": [
        {
          "output_type": "stream",
          "name": "stdout",
          "text": [
            "Requirement already satisfied: rir_generator in /usr/local/lib/python3.7/dist-packages (0.1.0)\n",
            "Requirement already satisfied: scipy>=0.13.0 in /usr/local/lib/python3.7/dist-packages (from rir_generator) (1.4.1)\n",
            "Requirement already satisfied: numpy>=1.6 in /usr/local/lib/python3.7/dist-packages (from rir_generator) (1.21.5)\n",
            "Requirement already satisfied: cffi>=1.1.0 in /usr/local/lib/python3.7/dist-packages (from rir_generator) (1.15.0)\n",
            "Requirement already satisfied: pycparser in /usr/local/lib/python3.7/dist-packages (from cffi>=1.1.0->rir_generator) (2.21)\n"
          ]
        }
      ]
    },
    {
      "cell_type": "code",
      "source": [
        "import numpy as np\n",
        "import scipy.signal as ss\n",
        "import soundfile as sf\n",
        "import rir_generator as rir\n",
        "from IPython.display import Audio \n",
        "from IPython.core.display import display\n",
        "import matplotlib.pyplot as plt\n",
        "\n",
        "# A script to generate the Impulse Response (IR) Functions of a rectangular room\n",
        "# of a given size with given receiver and source positions and given Reverberation time T60.\n",
        "\n",
        "# https://github.com/audiolabs/rir-generator\n",
        "# pip install rir-generator\n",
        "# pip install SoundFile\n",
        "\n",
        "#signal, fs = sf.read(\"bark.wav\", always_2d=True)\n",
        "\n",
        "def my_convolution(IR_data, signal):\n",
        "  #return ss.convolve(IR_data, signal, mode='full')\n",
        "  return ss.convolve(signal, IR_data, mode='same')\n",
        "\n",
        "#samplerate = 2**13\n",
        "samplerate = 2**9\n",
        "\n",
        "#reverberation_times = [0.4, 0.6, 0.8]\n",
        "reverberation_times = [0.4]\n",
        "IR_datas = []\n",
        "idx = 0\n",
        "for reverberation_time in reverberation_times:\n",
        "    IR_data = rir.generate(\n",
        "    \tc=340,                  # Sound velocity (m/s)\n",
        "    \tfs=samplerate,                  # Sample frequency (samples/s)\n",
        "    \tr=[                     # Receiver position(s) [x y z] (m)\n",
        "    \t    [4.5, 2.5, 1.5]\n",
        "    \t],\n",
        "    \ts=[0.5, 2.5, 1.5],          # Source position [x y z] (m)\n",
        "    \tL=[5, 5, 3],            # Room dimensions [x y z] (m)\n",
        "    \treverberation_time=reverberation_time, # Reverberation time T60 (s)\n",
        "    \tnsample=samplerate,           # Number of output samples\n",
        "\t)\n",
        "    print(IR_data.shape)              # (4096, 3)\n",
        "    IR_datas.append(IR_data)\n",
        "    #sf.write('random_IRs/IRF_'+str(idx)+'.wav', IR_data, samplerate)\n",
        "    idx = idx +1\t\n",
        "\n",
        "#print(signal.shape)         # (11462, 2)\n",
        "\n",
        "# Convolve 2-channel signal with 3 impulse responses\n",
        "#signal = ss.convolve(h[:, None, :], signal[:, :, None])\n",
        "\n",
        "#print(signal.shape)         # (15557, 2, 3)"
      ],
      "metadata": {
        "colab": {
          "base_uri": "https://localhost:8080/"
        },
        "id": "uMHgjjaW5k7n",
        "outputId": "66ce5707-0719-4ed4-8465-cf0009239d49"
      },
      "execution_count": 9,
      "outputs": [
        {
          "output_type": "stream",
          "name": "stdout",
          "text": [
            "(512, 1)\n"
          ]
        }
      ]
    },
    {
      "cell_type": "code",
      "source": [
        "N = samplerate\n",
        "batch = 10000\n",
        "split = batch\n",
        "IR_data = IR_datas[0].T[0]\n",
        "signal = np.random.randn(batch*N)\n",
        "signals = np.array(np.array_split(signal, split))\n",
        "transformed_signals = []\n",
        "for signal in signals:\n",
        "  transformed_signal = my_convolution(IR_data, signal)\n",
        "  transformed_signals.append(transformed_signal)\n",
        "\n",
        "transformed_signals = np.array(transformed_signals)\n",
        "print(signal.shape)\n",
        "print(signals.shape)\n",
        "print(transformed_signal.shape)\n",
        "print(transformed_signals.shape)\n",
        "display(Audio(np.array(signals[0]), rate=samplerate, autoplay=False))\n",
        "display(Audio(np.array(transformed_signals[0]), rate=samplerate, autoplay=False))"
      ],
      "metadata": {
        "colab": {
          "base_uri": "https://localhost:8080/",
          "height": 202
        },
        "id": "x6BYRygm3X2l",
        "outputId": "f3851aa0-f393-47d1-a262-932ce50b1f57"
      },
      "execution_count": 10,
      "outputs": [
        {
          "output_type": "stream",
          "name": "stdout",
          "text": [
            "(512,)\n",
            "(10000, 512)\n",
            "(512,)\n",
            "(10000, 512)\n"
          ]
        },
        {
          "output_type": "display_data",
          "data": {
            "text/plain": [
              "<IPython.lib.display.Audio object>"
            ],
            "text/html": [
              "\n",
              "                <audio controls=\"controls\" >\n",
              "                    <source src=\"data:audio/wav;base64,UklGRiQEAABXQVZFZm10IBAAAAABAAEAAAIAAAAEAAACABAAZGF0YQAEAACCy6YVVvosGfxe1DYw+nDIzSTv1h0vt1xqNW79aQLv1hncviBZ3lsNICTvAsTu1tzv3t8bR+r+wQotwuc26xX9SwXsEhHYW9w0htU7hLaCBeDraP5O7wcADTTddQkW3uuZ++H5ehQ4/z7kyAJgP87mfyb5C0oqnfev3czhOgp1GQ0zK9ka0Qv2Bv74/hMF2MomCzKt2tdj8xHyhecPBx0ngrTTy3bkzN3bOT4IlQpg4M35siPlDbIWOwEULT0iuvx3+z3jIBFi+yjByDq3AWkZQeG587P3Rjq2FBkOXrwkL3URvEjb3BsH8uCmJfD5NkwP7wcNjgWm/+MjUOF5+80366enCA/7i+IiND/vHuOkCOr61vD/6CgjZ9eKKLg2Qxm26p/lsxK93NYD8s82OTS7eCmGDRnbASE99UIFi/a16GX9/qvt/3vhZhdIzyIoQgIBKeM0jCIR1xzlsxwT0CDUdg83wV0HtN9L0wjbHdi2GUjrcNS94dhQpfNmHXRCMrTCP5v4mchB58sDJ/IRvoMfWiBoBywHF/ebxX31zzwk82It5TbkIvMNC99zODb4pRscw3kr9ekKMubeU8oZxIPGJinpJqiYNP6Tu/7yOQ5DBxgF18bROg823hRe6CXZ/y/w2LvRAB30PFLul0I/53rjcdEv04UhPN3t40bnlHVGt77jvduJ+EI4pxrB+kZJ6zVIQDr+8vWhSJYKzyQbJn8jhSss2bLrce83ILjXOiVYFoQLsN8eGwxDYqsQCDZGkrUU/2wcvOCe+bUKIybQSd/RPbEsDO+ghuxSAAGAlvOJ6D0m2SZF3fn+INkq5c7mLPUhMxoO/Q406fI+y945wcEcRAZq7xM3aCbdz8XNTANMA3kJT/Q4dUj+5PFA30kccfQK6LtumQ3S2Jkm7vvqNZ5HEOQm/ZP0GPrYyIsb4MhvE6zUPgCC+PL7UwTm2pQebC6dDQq9sDZpGnOx8wYzz61uaOkgAnTL//LsJkjmFudyEVUdgtbF4mwRukK2zgYHy/7tVErG3fIN+qYhlvaNKGbTH/3N9T/hUPrurMHulfnyFtTzzhM7zLdA2zeWwGkvtQty62n4r+nc6hwHthpWB+bKIPYl9zrpSQf73lf3YcHV6x8E/uLQCrHpyPjSwIYdmv3ZFDTQqASwTsQG+MVdzmLjWt572Pj7c9cWN2bN6grPCNb6g/NPF3nfoRIqFD/6Se725Qob+BIo/RzxoOyT9Rjl+wHh9gYNKuZVKLPzDeHoDtHWFqwxLqvyzwIUJfxOaioeDbr5s0VC/22/M806FRLt7fnIQvsH9PcS03767thCS/7tOjGtLOm8nzxeL1QJDgXkxArzThGoZYstuBLpy4HF\" type=\"audio/wav\" />\n",
              "                    Your browser does not support the audio element.\n",
              "                </audio>\n",
              "              "
            ]
          },
          "metadata": {}
        },
        {
          "output_type": "display_data",
          "data": {
            "text/plain": [
              "<IPython.lib.display.Audio object>"
            ],
            "text/html": [
              "\n",
              "                <audio controls=\"controls\" >\n",
              "                    <source src=\"data:audio/wav;base64,UklGRiQEAABXQVZFZm10IBAAAAABAAEAAAIAAAAEAAACABAAZGF0YQAEAACy/Q4xkciN2mgavRt16ar6Ty1myWTdSiQMKYQOLOcbKBpAl5fDIy4gqhxt07jzIXLZtLzSNzaIADEaJuCB8aI6nvx99w8JaO/zBxAP6AEM6eUO/fmC/BDajQs/bIuftAIYUNu4Oewo9lz+K+Qz3r1Gyv9jj40oAT1Q83n05QUbGHW7vM7MbjX8fsbUH1bceusYFYT9RCOFBrH2ovl2IYWkwfpdVZMBtfoS3cMndQGRnVhQfywC4HkALTVV+4LAVvOJWSzl9+3sVfbaAYBAADBhKPDz80sVsRpyqvUEwA8hQC7x9vsHAqkM5bcO24hO//gwBzUTM8riARgaT+pbC6/0HSquGziSLCtyDMHcNfp6Kvc/78bG35jlq0Nt+7bvawE/E3H04A7wh8shOzCn+9PqswcOC4/mWvKQMB0grt8GCUP9lfLT12cmX8O5N0L3zPmHDD7oNvkQ9wIh3Bj8sM0mYA+Ytcb6xP2MLe3zhAkw+CHdrfHOM5wW/gDc1Kom3bsv+rv1v/on/gwNkye03LTj6h0SEp3zcxYYI+Pcv9bs6Asz6fgY7Kn+gRplEGjbZ/sMINPuzvsvN/feDfKxAPzza/q39McKUR++8HrIKWzVAV7SmkG1D23u1+9o5ucI4+P/HUT1m/vNBGEs+/VF6QAOmDMg5jPq3Ved+qm0jeq+NBroxiz76Ik5wtZz0PA/aTZg+RzNAvceAwLNsTgnJ2TpUeD47NIjcf18E1sG/Caz1MfWUB379rvugTZw8Xz4/t2Q70Au6gv7DUb2If0Y35QLyw169HYNMfnH9OQCNvEtDMEHYQnjAev+QfHO+W8RTfyt/XIBNvRY+jMIOwQTBTP3l/2qCxEAvffwB+0AY/f6+/7/sgSl+6oDnQCI/u/6///3CrX89wW9+9v6M/16+8oIAQJJ/Ov+NP3r/2H/4QQRBPH+bv9k+/UAZP1iABUDqAB+/Wz+u/1PALADfQLF/xv/uv6q/rsAVgByAJr+//79/xoBuP3xABICQv/NAJb/LACH/6z/8QB0/mf/D/+uAZcAQP7IAKz/BACGAEUBmQA7/pr/BACo/8H/3P9nAYX/mP53ABcADwCwAFIBmv+V/rf/DQBAAL3/lAD2/0z/WP+WAHAA1f+sAE8Ah/9p/wAAPwDW/+D/PQDm/4j/xP+fABYA5/85AD8AsP/P/ywABwCx/9P/KgAYAMr///8mAOT/AwA4AEQAvv8BAAAA1//f/+X/LQAbAOf/7P/w//3/CQBBADgAyf/1/9n/+f8EAPP/GAADAPT/3////wkAEQArABEA4//2/9v/CgAOAPf//v/9//3/7v8FAA4ACwAIAAwA+f/7/+j/CwAHAOr/AAAHAP7/\" type=\"audio/wav\" />\n",
              "                    Your browser does not support the audio element.\n",
              "                </audio>\n",
              "              "
            ]
          },
          "metadata": {}
        }
      ]
    },
    {
      "cell_type": "code",
      "source": [
        "plt.plot(signals[0])\n",
        "plt.show()"
      ],
      "metadata": {
        "colab": {
          "base_uri": "https://localhost:8080/",
          "height": 266
        },
        "id": "1Q3T4jYAFU2J",
        "outputId": "e68b7102-64d4-4d48-c2d4-4b507f8154fa"
      },
      "execution_count": 11,
      "outputs": [
        {
          "output_type": "display_data",
          "data": {
            "text/plain": [
              "<Figure size 432x288 with 1 Axes>"
            ],
            "image/png": "[encoded data removed]"
          },
          "metadata": {
            "needs_background": "light"
          }
        }
      ]
    },
    {
      "cell_type": "code",
      "source": [
        "plt.plot(transformed_signals[0])\n",
        "plt.show()"
      ],
      "metadata": {
        "colab": {
          "base_uri": "https://localhost:8080/",
          "height": 264
        },
        "id": "kSXJ3OAuFf-T",
        "outputId": "de4eece3-1620-462f-9ffe-3f7c239799dc"
      },
      "execution_count": 13,
      "outputs": [
        {
          "output_type": "display_data",
          "data": {
            "text/plain": [
              "<Figure size 432x288 with 1 Axes>"
            ],
            "image/png": "[encoded data removed]"
          },
          "metadata": {
            "needs_background": "light"
          }
        }
      ]
    },
    {
      "cell_type": "code",
      "source": [
        "from keras.models import Sequential\n",
        "from keras.layers import Dense, Convolution1D\n",
        "\n",
        "X = signals\n",
        "y = transformed_signals\n",
        "\n",
        "# Create model with no hidden layers, same number of outputs as inputs.\n",
        "# No bias needed.  No activation function, \n",
        "# since DFT is linear.\n",
        "model = Sequential([Dense(transformed_signals.shape[1], input_dim=N, use_bias=False, activation=None)])\n",
        "#model = Sequential([Convolution1D(N, kernel_size=N, padding='causal', input_shape=(None, 256), dilation_rate=1, use_bias=False, activation=None)])\n",
        "model.summary()\n",
        "model.compile(loss='mean_squared_error', optimizer='adam')\n",
        "history = model.fit(X, y, epochs=35, batch_size=100, verbose='auto')\n",
        "print(f\"history.history['loss'][-1]: {history.history['loss'][-1]}\")\n",
        "render_history(history.history)"
      ],
      "metadata": {
        "colab": {
          "base_uri": "https://localhost:8080/",
          "height": 1000
        },
        "id": "7jdbpNyNO9Ol",
        "outputId": "435aa8be-7021-4662-e99d-8126bef32c28"
      },
      "execution_count": 14,
      "outputs": [
        {
          "output_type": "stream",
          "name": "stdout",
          "text": [
            "Model: \"sequential\"\n",
            "_________________________________________________________________\n",
            " Layer (type)                Output Shape              Param #   \n",
            "=================================================================\n",
            " dense (Dense)               (None, 512)               262144    \n",
            "                                                                 \n",
            "=================================================================\n",
            "Total params: 262,144\n",
            "Trainable params: 262,144\n",
            "Non-trainable params: 0\n",
            "_________________________________________________________________\n",
            "Epoch 1/35\n",
            "100/100 [==============================] - 1s 2ms/step - loss: 0.4480\n",
            "Epoch 2/35\n",
            "100/100 [==============================] - 0s 2ms/step - loss: 0.0321\n",
            "Epoch 3/35\n",
            "100/100 [==============================] - 0s 2ms/step - loss: 0.0011\n",
            "Epoch 4/35\n",
            "100/100 [==============================] - 0s 2ms/step - loss: 1.9940e-05\n",
            "Epoch 5/35\n",
            "100/100 [==============================] - 0s 2ms/step - loss: 2.1011e-07\n",
            "Epoch 6/35\n",
            "100/100 [==============================] - 0s 2ms/step - loss: 1.4578e-09\n",
            "Epoch 7/35\n",
            "100/100 [==============================] - 0s 2ms/step - loss: 7.8367e-12\n",
            "Epoch 8/35\n",
            "100/100 [==============================] - 0s 2ms/step - loss: 3.5845e-14\n",
            "Epoch 9/35\n",
            "100/100 [==============================] - 0s 2ms/step - loss: 4.9153e-15\n",
            "Epoch 10/35\n",
            "100/100 [==============================] - 0s 2ms/step - loss: 4.6991e-15\n",
            "Epoch 11/35\n",
            "100/100 [==============================] - 0s 2ms/step - loss: 4.4662e-15\n",
            "Epoch 12/35\n",
            "100/100 [==============================] - 0s 2ms/step - loss: 4.2349e-15\n",
            "Epoch 13/35\n",
            "100/100 [==============================] - 0s 2ms/step - loss: 3.9618e-15\n",
            "Epoch 14/35\n",
            "100/100 [==============================] - 0s 2ms/step - loss: 3.6652e-15\n",
            "Epoch 15/35\n",
            "100/100 [==============================] - 0s 2ms/step - loss: 3.3813e-15\n",
            "Epoch 16/35\n",
            "100/100 [==============================] - 0s 2ms/step - loss: 3.0561e-15\n",
            "Epoch 17/35\n",
            "100/100 [==============================] - 0s 2ms/step - loss: 2.7857e-15\n",
            "Epoch 18/35\n",
            "100/100 [==============================] - 0s 2ms/step - loss: 2.5016e-15\n",
            "Epoch 19/35\n",
            "100/100 [==============================] - 0s 2ms/step - loss: 2.2795e-15\n",
            "Epoch 20/35\n",
            "100/100 [==============================] - 0s 2ms/step - loss: 2.0784e-15\n",
            "Epoch 21/35\n",
            "100/100 [==============================] - 0s 2ms/step - loss: 1.8886e-15\n",
            "Epoch 22/35\n",
            "100/100 [==============================] - 0s 2ms/step - loss: 1.7121e-15\n",
            "Epoch 23/35\n",
            "100/100 [==============================] - 0s 2ms/step - loss: 1.5724e-15\n",
            "Epoch 24/35\n",
            "100/100 [==============================] - 0s 2ms/step - loss: 1.4501e-15\n",
            "Epoch 25/35\n",
            "100/100 [==============================] - 0s 2ms/step - loss: 1.3450e-15\n",
            "Epoch 26/35\n",
            "100/100 [==============================] - 0s 2ms/step - loss: 1.2388e-15\n",
            "Epoch 27/35\n",
            "100/100 [==============================] - 0s 2ms/step - loss: 1.1490e-15\n",
            "Epoch 28/35\n",
            "100/100 [==============================] - 0s 2ms/step - loss: 1.0802e-15\n",
            "Epoch 29/35\n",
            "100/100 [==============================] - 0s 2ms/step - loss: 9.9428e-16\n",
            "Epoch 30/35\n",
            "100/100 [==============================] - 0s 2ms/step - loss: 9.2823e-16\n",
            "Epoch 31/35\n",
            "100/100 [==============================] - 0s 2ms/step - loss: 8.8758e-16\n",
            "Epoch 32/35\n",
            "100/100 [==============================] - 0s 2ms/step - loss: 8.4906e-16\n",
            "Epoch 33/35\n",
            "100/100 [==============================] - 0s 2ms/step - loss: 8.0189e-16\n",
            "Epoch 34/35\n",
            "100/100 [==============================] - 0s 2ms/step - loss: 7.6408e-16\n",
            "Epoch 35/35\n",
            "100/100 [==============================] - 0s 2ms/step - loss: 7.3322e-16\n",
            "history.history['loss'][-1]: 7.332195653514634e-16\n"
          ]
        },
        {
          "output_type": "display_data",
          "data": {
            "text/plain": [
              "<Figure size 432x288 with 1 Axes>"
            ],
            "image/png": "[encoded data removed]"
          },
          "metadata": {
            "needs_background": "light"
          }
        }
      ]
    },
    {
      "cell_type": "code",
      "source": [
        "datas = np.random.randn(2,N)\n",
        "transformed_datas = []\n",
        "for data in datas:\n",
        "  transformed_data = my_convolution(IR_data, data)\n",
        "  transformed_datas.append(transformed_data)\n",
        "\n",
        "prediction = model.predict(datas)\n",
        "print(f'Convolution matches NN: {np.allclose(prediction, transformed_datas, rtol=1e-02)}')"
      ],
      "metadata": {
        "colab": {
          "base_uri": "https://localhost:8080/"
        },
        "id": "EbklHATd4el9",
        "outputId": "275dc544-22a5-481b-93fe-3d5c22b21e4b"
      },
      "execution_count": 16,
      "outputs": [
        {
          "output_type": "stream",
          "name": "stdout",
          "text": [
            "Convolution matches NN: True\n"
          ]
        }
      ]
    },
    {
      "cell_type": "code",
      "source": [
        "prediction - transformed_datas"
      ],
      "metadata": {
        "colab": {
          "base_uri": "https://localhost:8080/"
        },
        "id": "-OkZ6qPJ_bbm",
        "outputId": "de14d434-db16-418c-b700-990503035303"
      },
      "execution_count": 17,
      "outputs": [
        {
          "output_type": "execute_result",
          "data": {
            "text/plain": [
              "array([[ 5.48140971e-08, -9.66516341e-08,  5.78120160e-09, ...,\n",
              "         2.58252686e-10, -9.54785789e-11,  2.31862066e-12],\n",
              "       [-4.96196143e-09,  2.26937526e-08,  5.33242707e-08, ...,\n",
              "        -8.86186177e-12,  3.02975926e-11,  5.27417677e-11]])"
            ]
          },
          "metadata": {},
          "execution_count": 17
        }
      ]
    },
    {
      "cell_type": "code",
      "source": [
        "N = samplerate\n",
        "batch = 10000\n",
        "split = batch\n",
        "IR_data = IR_datas[0].T[0]\n",
        "signal = np.random.randn(batch*N)\n",
        "signals = np.array(np.array_split(signal, split))\n",
        "transformed_signal = ss.convolve(signal, IR_data, mode='same')\n",
        "#transformed_signal = ss.convolve(IR_data, signal)\n",
        "transformed_signal = transformed_signal[:N*batch]\n",
        "transformed_signals = np.array(np.array_split(transformed_signal, split))\n",
        "print(signal.shape)\n",
        "print(signals.shape)\n",
        "print(transformed_signal.shape)\n",
        "print(transformed_signals.shape)\n",
        "display(Audio(np.array(signals[0]), rate=samplerate, autoplay=False))\n",
        "display(Audio(np.array(transformed_signals[0]), rate=samplerate, autoplay=False))"
      ],
      "metadata": {
        "colab": {
          "base_uri": "https://localhost:8080/",
          "height": 202
        },
        "id": "ZSygAqmX6ApZ",
        "outputId": "12d3dffb-0c07-4a09-c8b4-265f2d22412e"
      },
      "execution_count": 3,
      "outputs": [
        {
          "output_type": "stream",
          "name": "stdout",
          "text": [
            "(5120000,)\n",
            "(10000, 512)\n",
            "(5120000,)\n",
            "(10000, 512)\n"
          ]
        },
        {
          "output_type": "display_data",
          "data": {
            "text/plain": [
              "<IPython.lib.display.Audio object>"
            ],
            "text/html": [
              "\n",
              "                <audio controls=\"controls\" >\n",
              "                    <source src=\"data:audio/wav;base64,UklGRiQEAABXQVZFZm10IBAAAAABAAEAAAIAAAAEAAACABAAZGF0YQAEAADF19rYqCpytSDKGScfJlgqFD/5vEnWnx7uDO3cqsil3DcXICgqFYAVH0U7uDe+Mg7z7HjudAsV2zTruNDoI5oz5TfaF956k+tEGvoccVZmz9jkQua471ohwL3kHXET4u8xtkvbcA6H3pr5CQDCCO7Xiu3ttFQE1+FA6WkPuicxRVr58fbP83QZdekov/09icTN/h4kWvFS+QxT8OyvEN2q+yBq1RQ9WA/CzaxGlwMEUtwAXUkGYBswnDGK6PTltfgs7/TMNCxAQRfhoA+RDfIoFT4tzeklYACr6JXkxtbxDx/jWv3q4Mzd2uzexmwgViByByQX9+sDvmYySTBQBePRBhR4NVsRUxpkVhQQ186b74v+evsRE8ftJ8SO9UnukwlQI8kmPMJz/ajDWz49+azZyisT+3ILv9fRL4QQ9PTPWPn8dPw9CocC1Epv9Cb6afh73blHGSmTB8so/BODCfL1bEf52YGvAhtw7cf/TcI565dA5zSK5zoG09N8LMTyBinpR80iKtU824slRxKeMi0CJTRi04///3+1PI5YZPlp/7HcSdhVGksMnudqWFffVeX04obO2viItKQqjztkEWDf+a5g5Vc92hr6/GssCi5eKPkQaqJQWQgIg8hd+fGguFtwwG76zgGlNxn2LClC6YRHplIDLh7ZbW528WivewtCwoyqRjDEEaALYAhhEY/eKeZaLB8NMAFaOEf66TMR91GqyRi7vAEHSE8h+FUkBPXC3ywHd9T44HVh6hyoIrrCVCRE+Xr0pfw8uYEjk8fTPMX/jBkSJALbWxVRH57DNdV4Ca4b4h3DTqDvtja55KfxIO7b9fonWw5nOXj2wQHPssTnw//8FJfz3+wUC/TY5tFL6zcrJxBa7I4Sus3+0W/CqhYZ8+PugsqAC476AR6OKDDxyuCcGk0In7aWr+zrdOhSDL7t/QAh9gPoth8J6dwa5qBtEmMvGfRoOpz6Oydc6CE5iQ6HDabg0h6m61oD79BXPbXbvuWfCvBPuwla97j5ZCHEIV/9nuz+7fXgNguDCKXwl0AOOd4sZBDazB0XC6rj1/EIU+6jdGbwY/ZXztDTmxzXJCY1egszIiP5qU3XFPYKAQ4vFp47Lq7X/a35jtWc2pQIx+msRg5YQiU94xcWx+gS7lO67QPpNAn93jwpL+9hphuVvnDiA+t/zMs13NcZ6xdl4B+AJGW9v/KF25wBLCMH/SypMPrlDvICIuf3X7jewhTb63/PYyT60JYS1+7CDXUzx/Jf73tLiSqg++3m+BQ3IRYM8qhc1+H0SaQV9bf1Ej3K5iH4nPBb5iUDBzNBTfNSjEbuPwnVxkKX7G+/cQ8+ybgICBsGGML+RSAH56oT\" type=\"audio/wav\" />\n",
              "                    Your browser does not support the audio element.\n",
              "                </audio>\n",
              "              "
            ]
          },
          "metadata": {}
        },
        {
          "output_type": "display_data",
          "data": {
            "text/plain": [
              "<IPython.lib.display.Audio object>"
            ],
            "text/html": [
              "\n",
              "                <audio controls=\"controls\" >\n",
              "                    <source src=\"data:audio/wav;base64,UklGRiQEAABXQVZFZm10IBAAAAABAAEAAAIAAAAEAAACABAAZGF0YQAEAADq0fUr2tBna0cL8sz3lIkbxfj57fkAficM8o9ITrmr8JUx7QzK+G/Ye3F/y0SWdS8+0UX2f0101Iko1uDcEGgg6tyF3H1KA+5f68H1VQHXA8/Sqiw/3uYMHAL1FQXu8P0W5k42ivFu/a8Rif5Cvf7POGnN2T0hwe3/BXM3TdI+4JQcsfuGKqfdyg6X5Kv6adiaHakP9dp5KYHrsRTf6IXiZfKSJnvyhTGZ0//mMOQv8iHzZw3jMhnj9vwQBLjXv/XUExhX4f3+qLrVrAeP3sb1mTdtDCThZfi5Ewng7/HtLwwplOS46wD5LtPWBXQ7DR19BQKqlCjXJQzmff58CKciObgnIqUIdflj5jsj1hrCFczIiTsK1Ef/dA0iJxXKgNJ0TLwc/eM/8L06hgjKwJ0GPRdf6er5HvE2U5q2gxMcDojKpSW8Hk0f/CU4w+ojVdtr5hk3+xArJTqxh/0l3PkG+wKPLhMYwgMYD9HLbBqjKVfg/ehNIUzO8fit9hM6pQ5e/+4QpQA15sEf99hL3XIr5fm8LRi9Cd7zVgTnPtfxMLTsyAQ96mogD/AguKAq8AQOFWMGuiJ3mQ/zni1h/vMNuCDhzcUfksP4NBv9YdH/fxfXveB0xGbuAyCwDpLhDgYE4cMM8/G1G10Fai3i4JjOwk4EDb8iOMazF/EbA8FqvaxFnxTE+c/nIxE83Zw8ef1xDZcSB8E8DWXNahf16/UE/PmVBq3eUSbO1ggPyQxrNArpPAsO9ELu4Rp30+UUf8SvIP/1wfeVHM05zravIoj2Tk8ozI0V7dhjumkQP/fw7GPvqkl++nTIhgSWdPS7rCH3UQns76URG4PtfL/6NTQ04tPf2ZcIphjJFzLxpDy2HXzoWYu9H/8DKQV39Zz6KyzZ4LLWvfAxTrUi3Ar76WLTZdVDPlr6xvGd7Un63hJ839Yd69kHSKoOrLw7TeYb96QIAzn960OP2NmlCEDM9t0HJBuN5m0DEQb+D/EpQJU5AtcctBLjzPxAOPHj+e3eyevlGmAaE7uTOUUw+tftG7bQAypI8wU/bfrM11DlwDcj9nWMsxShZHrF7+MWKCDiHOAw57hPrOfh8C7urgKC25gJVhvdPtC2dA7sTSbDL7aWLqRA8OE85uYFCvRb4OkbgfDvGqIM0fyy3bI2MdC2728QVQ3FD8YP57Eu/rv6DP0YKHEDmv0o3Fz+9RZP7CUOHu/29isOpfep5ez66g9uzuM3ZiMO58fsOvZN3sshIB2pEZLG2yIeARbKgv+AdSUJoMR1LnYCTNoGvyw7tzsM/HQegtbX7x0RWgouYrm50hn/COuhyg0JP2kUrs9MF+4U9+Oo/t4X/PTrKA68PED37uUj\" type=\"audio/wav\" />\n",
              "                    Your browser does not support the audio element.\n",
              "                </audio>\n",
              "              "
            ]
          },
          "metadata": {}
        }
      ]
    },
    {
      "cell_type": "code",
      "source": [
        "plt.imshow(model.get_weights()[0], vmin=-1, vmax=1, cmap='coolwarm')"
      ],
      "metadata": {
        "colab": {
          "base_uri": "https://localhost:8080/",
          "height": 286
        },
        "id": "LQQUqsaU6y36",
        "outputId": "9dbf42be-92d1-4888-8c25-66ba21e90aca"
      },
      "execution_count": 32,
      "outputs": [
        {
          "output_type": "execute_result",
          "data": {
            "text/plain": [
              "<matplotlib.image.AxesImage at 0x7fac478dd090>"
            ]
          },
          "metadata": {},
          "execution_count": 32
        },
        {
          "output_type": "display_data",
          "data": {
            "text/plain": [
              "<Figure size 432x288 with 1 Axes>"
            ],
            "image/png": "[encoded data removed]"
          },
          "metadata": {
            "needs_background": "light"
          }
        }
      ]
    },
    {
      "cell_type": "code",
      "source": [
        "2**(2*9)"
      ],
      "metadata": {
        "colab": {
          "base_uri": "https://localhost:8080/"
        },
        "id": "33kr2FMBV2Wn",
        "outputId": "a9210ee6-1af9-439f-85b8-909208e7a9e2"
      },
      "execution_count": 8,
      "outputs": [
        {
          "output_type": "execute_result",
          "data": {
            "text/plain": [
              "262144"
            ]
          },
          "metadata": {},
          "execution_count": 8
        }
      ]
    },
    {
      "cell_type": "code",
      "source": [
        "2**5"
      ],
      "metadata": {
        "colab": {
          "base_uri": "https://localhost:8080/"
        },
        "id": "Ve7min-61kmU",
        "outputId": "b66a4a6e-29f7-4048-d6c7-96b46371da19"
      },
      "execution_count": 5,
      "outputs": [
        {
          "output_type": "execute_result",
          "data": {
            "text/plain": [
              "32"
            ]
          },
          "metadata": {},
          "execution_count": 5
        }
      ]
    },
    {
      "cell_type": "code",
      "execution_count": null,
      "metadata": {
        "id": "3axmLs9k8L-W"
      },
      "outputs": [],
      "source": [
        "\"\"\"\n",
        "Train a neural network to implement the discrete Fourier transform\n",
        "\"\"\"\n",
        "from keras.models import Sequential\n",
        "from keras.layers import Dense\n",
        "import numpy as np\n",
        "import matplotlib.pyplot as plt\n",
        "\n",
        "N = 2**5\n",
        "batch = 10000\n",
        "\n",
        "def render_history(history):\n",
        "    plt.plot(history[\"loss\"], label=\"loss\")\n",
        "    #plt.plot(history[\"val_loss\"], label=\"val_loss\")\n",
        "    plt.legend()\n",
        "    plt.title(\"Our losses\")\n",
        "    plt.show()\n",
        "    plt.close()\n",
        "\n",
        "# Generate random input data and desired output data\n",
        "sig = np.random.randn(batch, N) + 1j*np.random.randn(batch, N)\n",
        "F = np.fft.fft(sig, axis=-1)\n",
        "\n",
        "# First half of inputs/outputs is real part, second half is imaginary part\n",
        "X = np.hstack([sig.real, sig.imag])\n",
        "Y = np.hstack([F.real, F.imag])\n",
        "\n",
        "# Create model with no hidden layers, same number of outputs as inputs.\n",
        "# No bias needed.  No activation function, since DFT is linear.\n",
        "model = Sequential([Dense(N*2, input_dim=N*2, use_bias=False)])\n",
        "model.compile(loss='mean_squared_error', optimizer='adam')\n",
        "history = model.fit(X, Y, epochs=100, batch_size=100, verbose='auto')\n",
        "\n",
        "render_history(history.history)\n",
        "\n",
        "# Confirm that it works\n",
        "data = np.arange(N)\n",
        "\n",
        "\n",
        "def ANN_DFT(x):\n",
        "    if len(x) != N:\n",
        "        raise ValueError(f'Input must be length {N}')\n",
        "    pred = model.predict(np.hstack([x.real, x.imag])[np.newaxis])[0]\n",
        "    result = pred[:N] + 1j*pred[N:]\n",
        "    return result\n",
        "\n",
        "\n",
        "ANN = ANN_DFT(data)\n",
        "FFT = np.fft.fft(data)\n",
        "print(f'ANN matches FFT: {np.allclose(ANN, FFT)}')\n",
        "\n",
        "# Heat map of neuron weights\n",
        "plt.imshow(model.get_weights()[0], vmin=-1, vmax=1, cmap='coolwarm')"
      ]
    },
    {
      "cell_type": "code",
      "source": [
        "history.history[\"loss\"][-1]"
      ],
      "metadata": {
        "colab": {
          "base_uri": "https://localhost:8080/"
        },
        "id": "pP8YTcxgvXz7",
        "outputId": "6aa24240-016c-4830-ba37-906d72d2c83d"
      },
      "execution_count": 7,
      "outputs": [
        {
          "output_type": "execute_result",
          "data": {
            "text/plain": [
              "7.425119546988768e-13"
            ]
          },
          "metadata": {},
          "execution_count": 7
        }
      ]
    },
    {
      "cell_type": "code",
      "source": [
        "from IPython.display import Audio \n",
        "from IPython.core.display import display\n",
        "def beep():\n",
        "    sr = 2**13 # sample rate\n",
        "    T = 0.5    # seconds\n",
        "    t = np.linspace(0, T, int(T*sr), endpoint=False) # time variable\n",
        "    signal = 0.5*np.sin(2*np.pi*440*t)              # pure sine wave at 440 Hz\n",
        "    display(Audio(signal, rate=sr, autoplay=False))\n",
        "    tranformed_signal = ss.convolve(IR_data, signal, mode='full')\n",
        "    display(Audio(tranformed_signal, rate=sr, autoplay=False))\n",
        "beep();"
      ],
      "metadata": {
        "colab": {
          "base_uri": "https://localhost:8080/",
          "height": 133
        },
        "id": "mbdmi09CDEvh",
        "outputId": "6d478f25-bf52-4f7b-dbff-078cac0f78ef"
      },
      "execution_count": 12,
      "outputs": [
        {
          "output_type": "display_data",
          "data": {
            "text/plain": [
              "<IPython.lib.display.Audio object>"
            ],
            "text/html": [
              "\n",
              "                <audio controls=\"controls\" >\n",
              "                    <source src=\"data:audio/wav;base64,UklGRiQgAABXQVZFZm10IBAAAAABAAEAACAAAABAAAACABAAZGF0YQAgAAAAAGEq+k+ObOJ8IH8Gc/NZuTZTDW3i3boZm7eGBIDBhw+dh71+5XIQjDkoXF50dH8pfNtqgE1nJ9z8rNKYrdCRd4JHgWOOUKgizM71nyDDR85mQXrofyJ362DFP20Xcuyqw7GhXIpMgKSE55YGtZnbRwZBMMlUwG8cfj5+InBfVfswEAda3Km1W5fbhD+ADYoqofnCq+unFhY/Z2DYduB/fHpFZ2lIYSGW9trM46jAjmSBUIJrkf+s8NET/Kcm4Exsavd7hn+xdLNcPzo5EUPmM76PnQeIB4B3hp6aNLqq4YsMAzZjWa5yCH8Offhsl1AeK8kAXdajsN2TSoPJgKKMf6WRyOXxzxx6RGtkCHn+f4N4cGMlQ0YbVfAox2Sk9oufgKeDtpTgsdrXWwKYLM5RyW1hfdR++XFCWJY0+wok4OS4qpn8hRGAlYiSno2/zefHEqQ7xl1UdaZ/kXuLaZ1LJyWC+nrQzquikAeCooF+jwyqTM4n+OQis0kxaO56zX9Adl1ftz0bFR/qmcEeoHOJKYBLhUSY8rbd3aEIbTKJVuFwfn7VffpumlPMLrYEGdrBswSWPIRqgP2Kw6IOxQDu+BggQfBhs3f1f8d53WV0RhkfPfSzyi2nrI0RgciCn5LNriXUbv7lKL9Ot2uIfEx/tXMPWyQ44w714zC8Epw6hwGAOocSnDC89ePjDiQ4D1u1c0x/iHy3a79O5Shu/iXUza6fksiCEYGsjS2ns8o99BkfdEbdZcd59X+zd/BhIEH4GADuDsXDov2KaoA8hASWwbMZ2rYEzC6aU/pu1X1+fuFwiVZtMqEI3d3ytkSYS4UpgHOJHqCZwR/qGxW3PV1fQHbNf+56MWizSeQiJ/hMzgyqfo+igQeCopDOq3rQgvonJZ1Li2mRe6Z/VHXGXaQ7xxLN542/kp6ViBGA/IWqmeS4JOD7CpY0Qlj5cdR+YX3Jbc5RmCxbAtrX4LG2lKeDn4D2i2SkKMdV8EYbJUNwY4N4/n8IeWtkekTPHOXxkch/paKMyYBKg92To7Bd1skAHiuXUPhsDn0If65yY1kDNosMquE0up6ad4YHgAeIj50zvkPmORE/OrNcsXSGf/d7bGrgTKcmE/zw0f+sa5FQgmSBwI7jqNrMlvZhIWlIRWd8euB/2HZnYBY/pxar6/nCKqENij+A24Rbl6m1WtwQB/swX1UicD5+HH7Ab8lUQTBHBpnbBrXnlqSETIBcirGhqsNy7G0XxT/rYCJ36H9Bes5mw0efIM71IsxQqGOOR4F3gtCRmK2s0tz8ZyeATdtqKXx0f150KFyMOXIQfuWHvQ+dwYcEgLeGGZvdum3iUw25NvNZBnMgf+J8jmz6T2EqAACf1QawcpMeg+CA+owNpkfJrfKTHSNF52RJefx/P3jxYnlCghqO73TG2KOii4yA14MllYCymdgkA1QtaFIwbol9uX6dcbBX3jMyCmHfPbgymb+FGIDeiBWfO8CT6I4TVjxPXqR1tH9cexlp+kpnJLn5v883q0CQ5IHCgd6PoaoFz/D4piNXSqVoJXvBf/N11l4HPVUUWenqwJmfKIkggISFu5iXt5/eagkmMx1XQHGcfrB9lW4BUxAu7QNZ2SCzlJUJhHqAT4tNo8HFx+69Gc1BcWL5d/l/iXliZcxFVh518/3JnaZSjfiA8oIIk2mv4tQ3/6MpXU8jbLZ8N39ec4FabzcbDjHjhruVm/iGAoB9h5Cc27y65KsP2DicWwp0YX9ZfEprIE4mKKX9aNMyrjeSn4IsgQeOvqdqywX13B8cR1ZmBHrvf2t3bmFzQDMYOe1cxDqirIpagG+EdZZjtNnafgWGLzJUXm/5fV5+gnD0VbQx2Qcc3U22z5cShTOAwImjoEnC5erhFWc+4l+Ndtd/tXq8Zw5JIyJf95PNd6kfj4KBK4IGkWasNNFK++clP0z8acR7ln8DdT1d8joAEgjn4L4Qnk2IC4A5hiOajLnn4MMLTTXTWFRy7344fWFtM1HbK5IBG9dBsUmUeIO0gEuM8aTcxx3xCxzQQ+5jxnj/f8Z47mPQQwscHfHcx/GkS4y0gHiDSZRBsRvXkgHbKzNRYW04fe9+VHLTWE01wwvn4Iy5I5o5hguATYgQnuC+COcAEvI6PV0DdZZ/xHv8aT9M5yVK+zTRZqwGkSuCgoEfj3epk81f9yMiDkm8Z7V613+NduJfZz7hFeXqScKjoMCJM4AShc+XTbYc3dkHtDH0VYJwXn75fV5vMlSGL34F2dpjtHWWb4RagKyKOqJcxDntMxhzQG5ha3fvfwR6VmYcR9wfBfVqy76nB44sgZ+CN5IyrmjTpf0mKCBOSmtZfGF/CnScW9g4qw+65Nu8kJx9hwKA+IaVm4a7MeMbDm83gVpeczd/tnwjbF1Poyk3/+LUaa8Ik/KC+IBSjZ2m/cl181YezEViZYl5+X/5d3FizUG9GcfuwcVNo0+LeoAJhJSVILNZ2e0DEC4BU5VusH2cfkBxHVcmM2oJn96Xt7uYhIUggCiJmZ/qwFnpVRQHPdZe83XBfyV7pWhXSqYj8PgFz6Gq3o/CgeSBQJA3q7/PuflnJPpKGWlce7R/pHVPXlY8jhOT6DvAFZ/eiBiAv4UymT24Yd8yCt4zsFedcbl+iX0wbmhSVC0kA5nYgLIlldeDjICii9ijdMaO74IaeULxYj94/H9JeedkI0WTHa3yR8kNpvqM4IAeg3KTBrCf1QAAYSr6T45s4nwgfwZz81m5NlMNbeLduhmbt4YEgMGHD52HvX7lchCMOShcXnR0fyl822qATWcn3Pys0pit0JF3gkeBY45QqCLMzvWfIMNHzmZBeuh/InfrYMU/bRdy7KrDsaFcikyApITnlga1mdtHBkEwyVTAbxx+Pn4icF9V+zAQB1rcqbVbl9uEP4ANiiqh+cKr66cWFj9nYNh24H98ekVnaUhhIZb22szjqMCOZIFQgmuR/6zw0RP8pybgTGxq93uGf7F0s1w/OjkRQ+Yzvo+dB4gHgHeGnpo0uqrhiwwDNmNZrnIIfw59+GyXUB4ryQBd1qOw3ZNKg8mAoox/pZHI5fHPHHpEa2QIef5/g3hwYyVDRhtV8CjHZKT2i5+Ap4O2lOCx2tdbApgszlHJbWF91H75cUJYljT7CiTg5LiqmfyFEYCViJKejb/N58cSpDvGXVR1pn+Re4tpnUsnJYL6etDOq6KQB4KigX6PDKpMzif45CKzSTFo7nrNf0B2XV+3PRsVH+qZwR6gc4kpgEuFRJjytt3doQhtMolW4XB+ftV9+m6aU8wutgQZ2sGzBJY8hGqA/YrDog7FAO74GCBB8GGzd/V/x3ndZXRGGR899LPKLaesjRGByIKfks2uJdRu/uUov063a4h8TH+1cw9bJDjjDvXjMLwSnDqHAYA6hxKcMLz14+MOJDgPW7VzTH+IfLdrv07lKG7+JdTNrp+SyIIRgayNLaezyj30GR90Rt1lx3n1f7N38GEgQfgYAO4OxcOi/YpqgDyEBJbBsxnatgTMLppT+m7VfX5+4XCJVm0yoQjd3fK2RJhLhSmAc4keoJnBH+obFbc9XV9Ads1/7noxaLNJ5CIn+EzODKp+j6KBB4KikM6retCC+iclnUuLaZF7pn9UdcZdpDvHEs3njb+SnpWIEYD8haqZ5Lgk4PsKljRCWPlx1H5hfcltzlGYLFsC2tfgsbaUp4OfgPaLZKQox1XwRhslQ3Bjg3j+fwh5a2R6RM8c5fGRyH+loozJgEqD3ZOjsF3WyQAeK5dQ+GwOfQh/rnJjWQM2iwyq4TS6npp3hgeAB4iPnTO+Q+Y5ET86s1yxdIZ/93tsauBMpyYT/PDR/6xrkVCCZIHAjuOo2syW9mEhaUhFZ3x64H/YdmdgFj+nFqvr+cIqoQ2KP4DbhFuXqbVa3BAH+zBfVSJwPn4cfsBvyVRBMEcGmdsGteeWpIRMgFyKsaGqw3LsbRfFP+tgInfof0F6zmbDR58gzvUizFCoY45HgXeC0JGYrazS3PxnJ4BN22opfHR/XnQoXIw5chB+5Ye9D53BhwSAt4YZm926beJTDbk281kGcyB/4nyObPpPYSoAAJ/VBrBykx6D4ID6jA2mR8mt8pMdI0XnZEl5/H8/ePFieUKCGo7vdMbYo6KLjIDXgyWVgLKZ2CQDVC1oUjBuiX25fp1xsFfeMzIKYd89uDKZv4UYgN6IFZ87wJPojhNWPE9epHW0f1x7GWn6Smckufm/zzerQJDkgcKB3o+hqgXP8PimI1dKpWgle8F/83XWXgc9VRRZ6erAmZ8oiSCAhIW7mJe3n95qCSYzHVdAcZx+sH2VbgFTEC7tA1nZILOUlQmEeoBPi02jwcXH7r0ZzUFxYvl3+X+JeWJlzEVWHnXz/cmdplKN+IDyggiTaa/i1Df/oyldTyNstnw3f15zgVpvNxsOMeOGu5Wb+IYCgH2HkJzbvLrkqw/YOJxbCnRhf1l8SmsgTiYopf1o0zKuN5KfgiyBB46+p2rLBfXcHxxHVmYEeu9/a3duYXNAMxg57VzEOqKsilqAb4R1lmO02dp+BYYvMlReb/l9Xn6CcPRVtDHZBxzdTbbPlxKFM4DAiaOgScLl6uEVZz7iX41213+1erxnDkkjIl/3k813qR+PgoErggaRZqw00Ur75yU/TPxpxHuWfwN1PV3yOgASCOfgvhCeTYgLgDmGI5qMuefgwwtNNdNYVHLvfjh9YW0zUdsrkgEb10GxSZR4g7SAS4zxpNzHHfELHNBD7mPGeP9/xnjuY9BDCxwd8dzH8aRLjLSAeINJlEGxG9eSAdsrM1FhbTh9735UctNYTTXDC+fgjLkjmjmGC4BNiBCe4L4I5wAS8jo9XQN1ln/Ee/xpP0znJUr7NNFmrAaRK4KCgR+Pd6mTzV/3IyIOSbxntXrXf4124l9nPuEV5epJwqOgwIkzgBKFz5dNthzd2Qe0MfRVgnBefvl9Xm8yVIYvfgXZ2mO0dZZvhFqArIo6olzEOe0zGHNAbmFrd+9/BHpWZhxH3B8F9WrLvqcHjiyBn4I3kjKuaNOl/SYoIE5Ka1l8YX8KdJxb2DirD7rk27yQnH2HAoD4hpWbhrsx4xsObzeBWl5zN3+2fCNsXU+jKTf/4tRprwiT8oL4gFKNnab9yXXzVh7MRWJliXn5f/l3cWLNQb0Zx+7BxU2jT4t6gAmElJUgs1nZ7QMQLgFTlW6wfZx+QHEdVyYzagmf3pe3u5iEhSCAKImZn+rAWelVFAc91l7zdcF/JXulaFdKpiPw+AXPoarej8KB5IFAkDerv8+5+Wck+koZaVx7tH+kdU9eVjyOE5PoO8AVn96IGIC/hTKZPbhh3zIK3jOwV51xuX6JfTBuaFJULSQDmdiAsiWV14OMgKKL2KN0xo7vghp5QvFiP3j8f0l552QjRZMdrfJHyQ2m+ozggB6DcpMGsJ/VAABhKvpPjmzifCB/BnPzWbk2Uw1t4t26GZu3hgSAwYcPnYe9fuVyEIw5KFxedHR/KXzbaoBNZyfc/KzSmK3QkXeCR4FjjlCoIszO9Z8gw0fOZkF66H8id+tgxT9tF3LsqsOxoVyKTICkhOeWBrWZ20cGQTDJVMBvHH4+fiJwX1X7MBAHWtyptVuX24Q/gA2KKqH5wqvrpxYWP2dg2Hbgf3x6RWdpSGEhlvbazOOowI5kgVCCa5H/rPDRE/ynJuBMbGr3e4Z/sXSzXD86ORFD5jO+j50HiAeAd4aemjS6quGLDAM2Y1mucgh/Dn34bJdQHivJAF3Wo7Ddk0qDyYCijH+lkcjl8c8cekRrZAh5/n+DeHBjJUNGG1XwKMdkpPaLn4Cng7aU4LHa11sCmCzOUcltYX3UfvlxQliWNPsKJODkuKqZ/IURgJWIkp6Nv83nxxKkO8ZdVHWmf5F7i2mdSyclgvp60M6ropAHgqKBfo8MqkzOJ/jkIrNJMWjues1/QHZdX7c9GxUf6pnBHqBziSmAS4VEmPK23d2hCG0yiVbhcH5+1X36bppTzC62BBnawbMEljyEaoD9isOiDsUA7vgYIEHwYbN39X/Hed1ldEYZHz30s8otp6yNEYHIgp+Sza4l1G7+5Si/TrdriHxMf7VzD1skOOMO9eMwvBKcOocBgDqHEpwwvPXj4w4kOA9btXNMf4h8t2u/TuUobv4l1M2un5LIghGBrI0tp7PKPfQZH3RG3WXHefV/s3fwYSBB+BgA7g7Fw6L9imqAPIQElsGzGdq2BMwumlP6btV9fn7hcIlWbTKhCN3d8rZEmEuFKYBziR6gmcEf6hsVtz1dX0B2zX/uejFos0nkIif4TM4Mqn6PooEHgqKQzqt60IL6JyWdS4tpkXumf1R1xl2kO8cSzeeNv5KelYgRgPyFqpnkuCTg+wqWNEJY+XHUfmF9yW3OUZgsWwLa1+CxtpSng5+A9otkpCjHVfBGGyVDcGODeP5/CHlrZHpEzxzl8ZHIf6WijMmASoPdk6OwXdbJAB4rl1D4bA59CH+ucmNZAzaLDKrhNLqemneGB4AHiI+dM75D5jkRPzqzXLF0hn/3e2xq4EynJhP88NH/rGuRUIJkgcCO46jazJb2YSFpSEVnfHrgf9h2Z2AWP6cWq+v5wiqhDYo/gNuEW5eptVrcEAf7MF9VInA+fhx+wG/JVEEwRwaZ2wa155akhEyAXIqxoarDcuxtF8U/62Aid+h/QXrOZsNHnyDO9SLMUKhjjkeBd4LQkZitrNLc/GcngE3bail8dH9edChcjDlyEH7lh70PncGHBIC3hhmb3bpt4lMNuTbzWQZzIH/ifI5s+k9hKgAAn9UGsHKTHoPggPqMDaZHya3ykx0jRedkSXn8fz948WJ5QoIaju90xtijoouMgNeDJZWAspnYJANULWhSMG6Jfbl+nXGwV94zMgph3z24Mpm/hRiA3ogVnzvAk+iOE1Y8T16kdbR/XHsZafpKZyS5+b/PN6tAkOSBwoHej6GqBc/w+KYjV0qlaCV7wX/zddZeBz1VFFnp6sCZnyiJIICEhbuYl7ef3moJJjMdV0BxnH6wfZVuAVMQLu0DWdkgs5SVCYR6gE+LTaPBxcfuvRnNQXFi+Xf5f4l5YmXMRVYedfP9yZ2mUo34gPKCCJNpr+LUN/+jKV1PI2y2fDd/XnOBWm83Gw4x44a7lZv4hgKAfYeQnNu8uuSrD9g4nFsKdGF/WXxKayBOJiil/WjTMq43kp+CLIEHjr6nassF9dwfHEdWZgR6739rd25hc0AzGDntXMQ6oqyKWoBvhHWWY7TZ2n4Fhi8yVF5v+X1efoJw9FW0MdkHHN1Nts+XEoUzgMCJo6BJwuXq4RVnPuJfjXbXf7V6vGcOSSMiX/eTzXepH4+CgSuCBpFmrDTRSvvnJT9M/GnEe5Z/A3U9XfI6ABII5+C+EJ5NiAuAOYYjmoy55+DDC00101hUcu9+OH1hbTNR2yuSARvXQbFJlHiDtIBLjPGk3Mcd8Qsc0EPuY8Z4/3/GeO5j0EMLHB3x3MfxpEuMtIB4g0mUQbEb15IB2yszUWFtOH3vflRy01hNNcML5+CMuSOaOYYLgE2IEJ7gvgjnABLyOj1dA3WWf8R7/Gk/TOclSvs00WasBpErgoKBH493qZPNX/cjIg5JvGe1etd/jXbiX2c+4RXl6knCo6DAiTOAEoXPl022HN3ZB7Qx9FWCcF5++X1ebzJUhi9+BdnaY7R1lm+EWoCsijqiXMQ57TMYc0BuYWt3738EelZmHEfcHwX1asu+pweOLIGfgjeSMq5o06X9JiggTkprWXxhfwp0nFvYOKsPuuTbvJCcfYcCgPiGlZuGuzHjGw5vN4FaXnM3f7Z8I2xdT6MpN//i1GmvCJPygviAUo2dpv3JdfNWHsxFYmWJefl/+XdxYs1BvRnH7sHFTaNPi3qACYSUlSCzWdntAxAuAVOVbrB9nH5AcR1XJjNqCZ/el7e7mISFIIAoiZmf6sBZ6VUUBz3WXvN1wX8le6VoV0qmI/D4Bc+hqt6PwoHkgUCQN6u/z7n5ZyT6ShlpXHu0f6R1T15WPI4Tk+g7wBWf3ogYgL+FMpk9uGHfMgreM7BXnXG5fol9MG5oUlQtJAOZ2ICyJZXXg4yAoovYo3TGju+CGnlC8WI/ePx/SXnnZCNFkx2t8kfJDab6jOCAHoNykwawn9UAAGEq+k+ObOJ8IH8Gc/NZuTZTDW3i3boZm7eGBIDBhw+dh71+5XIQjDkoXF50dH8pfNtqgE1nJ9z8rNKYrdCRd4JHgWOOUKgizM71nyDDR85mQXrofyJ362DFP20Xcuyqw7GhXIpMgKSE55YGtZnbRwZBMMlUwG8cfj5+InBfVfswEAda3Km1W5fbhD+ADYoqofnCq+unFhY/Z2DYduB/fHpFZ2lIYSGW9trM46jAjmSBUIJrkf+s8NET/Kcm4Exsavd7hn+xdLNcPzo5EUPmM76PnQeIB4B3hp6aNLqq4YsMAzZjWa5yCH8Offhsl1AeK8kAXdajsN2TSoPJgKKMf6WRyOXxzxx6RGtkCHn+f4N4cGMlQ0YbVfAox2Sk9oufgKeDtpTgsdrXWwKYLM5RyW1hfdR++XFCWJY0+wok4OS4qpn8hRGAlYiSno2/zefHEqQ7xl1UdaZ/kXuLaZ1LJyWC+nrQzquikAeCooF+jwyqTM4n+OQis0kxaO56zX9Adl1ftz0bFR/qmcEeoHOJKYBLhUSY8rbd3aEIbTKJVuFwfn7VffpumlPMLrYEGdrBswSWPIRqgP2Kw6IOxQDu+BggQfBhs3f1f8d53WV0RhkfPfSzyi2nrI0RgciCn5LNriXUbv7lKL9Ot2uIfEx/tXMPWyQ44w714zC8Epw6hwGAOocSnDC89ePjDiQ4D1u1c0x/iHy3a79O5Shu/iXUza6fksiCEYGsjS2ns8o99BkfdEbdZcd59X+zd/BhIEH4GADuDsXDov2KaoA8hASWwbMZ2rYEzC6aU/pu1X1+fuFwiVZtMqEI3d3ytkSYS4UpgHOJHqCZwR/qGxW3PV1fQHbNf+56MWizSeQiJ/hMzgyqfo+igQeCopDOq3rQgvonJZ1Li2mRe6Z/VHXGXaQ7xxLN542/kp6ViBGA/IWqmeS4JOD7CpY0Qlj5cdR+YX3Jbc5RmCxbAtrX4LG2lKeDn4D2i2SkKMdV8EYbJUNwY4N4/n8IeWtkekTPHOXxkch/paKMyYBKg92To7Bd1skAHiuXUPhsDn0If65yY1kDNosMquE0up6ad4YHgAeIj50zvkPmORE/OrNcsXSGf/d7bGrgTKcmE/zw0f+sa5FQgmSBwI7jqNrMlvZhIWlIRWd8euB/2HZnYBY/pxar6/nCKqENij+A24Rbl6m1WtwQB/swX1UicD5+HH7Ab8lUQTBHBpnbBrXnlqSETIBcirGhqsNy7G0XxT/rYCJ36H9Bes5mw0efIM71IsxQqGOOR4F3gtCRmK2s0tz8ZyeATdtqKXx0f150KFyMOXIQfuWHvQ+dwYcEgLeGGZvdum3iUw25NvNZBnMgf+J8jmz6T2EqAACf1QawcpMeg+CA+owNpkfJrfKTHSNF52RJefx/P3jxYnlCghqO73TG2KOii4yA14MllYCymdgkA1QtaFIwbol9uX6dcbBX3jMyCmHfPbgymb+FGIDeiBWfO8CT6I4TVjxPXqR1tH9cexlp+kpnJLn5v883q0CQ5IHCgd6PoaoFz/D4piNXSqVoJXvBf/N11l4HPVUUWenqwJmfKIkggISFu5iXt5/eagkmMx1XQHGcfrB9lW4BUxAu7QNZ2SCzlJUJhHqAT4tNo8HFx+69Gc1BcWL5d/l/iXliZcxFVh518/3JnaZSjfiA8oIIk2mv4tQ3/6MpXU8jbLZ8N39ec4FabzcbDjHjhruVm/iGAoB9h5Cc27y65KsP2DicWwp0YX9ZfEprIE4mKKX9aNMyrjeSn4IsgQeOvqdqywX13B8cR1ZmBHrvf2t3bmFzQDMYOe1cxDqirIpagG+EdZZjtNnafgWGLzJUXm/5fV5+gnD0VbQx2Qcc3U22z5cShTOAwImjoEnC5erhFWc+4l+Ndtd/tXq8Zw5JIyJf95PNd6kfj4KBK4IGkWasNNFK++clP0z8acR7ln8DdT1d8joAEgjn4L4Qnk2IC4A5hiOajLnn4MMLTTXTWFRy7344fWFtM1HbK5IBG9dBsUmUeIO0gEuM8aTcxx3xCxzQQ+5jxnj/f8Z47mPQQwscHfHcx/GkS4y0gHiDSZRBsRvXkgHbKzNRYW04fe9+VHLTWE01wwvn4Iy5I5o5hguATYgQnuC+COcAEvI6PV0DdZZ/xHv8aT9M5yVK+zTRZqwGkSuCgoEfj3epk81f9yMiDkm8Z7V613+NduJfZz7hFeXqScKjoMCJM4AShc+XTbYc3dkHtDH0VYJwXn75fV5vMlSGL34F2dpjtHWWb4RagKyKOqJcxDntMxhzQG5ha3fvfwR6VmYcR9wfBfVqy76nB44sgZ+CN5IyrmjTpf0mKCBOSmtZfGF/CnScW9g4qw+65Nu8kJx9hwKA+IaVm4a7MeMbDm83gVpeczd/tnwjbF1Poyk3/+LUaa8Ik/KC+IBSjZ2m/cl181YezEViZYl5+X/5d3FizUG9GcfuwcVNo0+LeoAJhJSVILNZ2e0DEC4BU5VusH2cfkBxHVcmM2oJn96Xt7uYhIUggCiJmZ/qwFnpVRQHPdZe83XBfyV7pWhXSqYj8PgFz6Gq3o/CgeSBQJA3q7/PuflnJPpKGWlce7R/pHVPXlY8jhOT6DvAFZ/eiBiAv4UymT24Yd8yCt4zsFedcbl+iX0wbmhSVC0kA5nYgLIlldeDjICii9ijdMaO74IaeULxYj94/H9JeedkI0WTHa3yR8kNpvqM4IAeg3KTBrCf1Q==\" type=\"audio/wav\" />\n",
              "                    Your browser does not support the audio element.\n",
              "                </audio>\n",
              "              "
            ]
          },
          "metadata": {}
        },
        {
          "output_type": "display_data",
          "data": {
            "text/plain": [
              "<IPython.lib.display.Audio object>"
            ],
            "text/html": [
              "\n",
              "                <audio controls=\"controls\" >\n",
              "                    <source src=\"data:audio/wav;base64,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\" type=\"audio/wav\" />\n",
              "                    Your browser does not support the audio element.\n",
              "                </audio>\n",
              "              "
            ]
          },
          "metadata": {}
        }
      ]
    }
  ]
}