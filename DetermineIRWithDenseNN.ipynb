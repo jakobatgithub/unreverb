{
  "nbformat": 4,
  "nbformat_minor": 0,
  "metadata": {
    "colab": {
      "name": "DetermineIRWithDenseNN.ipynb",
      "provenance": [],
      "collapsed_sections": [],
      "mount_file_id": "1SRUKY4yx8QV3in901ypooX29d5Xl-1eH",
      "authorship_tag": "ABX9TyONGtGNeJXBzSbBdRIFNSs1",
      "include_colab_link": true
    },
    "kernelspec": {
      "name": "python3",
      "display_name": "Python 3"
    },
    "language_info": {
      "name": "python"
    },
    "accelerator": "GPU"
  },
  "cells": [
    {
      "cell_type": "markdown",
      "metadata": {
        "id": "view-in-github",
        "colab_type": "text"
      },
      "source": [
        "<a href=\"https://colab.research.google.com/github/jakobatgithub/unreverb/blob/main/DetermineIRWithDenseNN.ipynb\" target=\"_parent\"><img src=\"https://colab.research.google.com/assets/colab-badge.svg\" alt=\"Open In Colab\"/></a>"
      ]
    },
    {
      "cell_type": "code",
      "source": [
        "!pip install rir_generator"
      ],
      "metadata": {
        "colab": {
          "base_uri": "https://localhost:8080/"
        },
        "id": "9hFRUmeB5ONY",
        "outputId": "63558793-8185-4f92-cf5b-a1923d3c2a91"
      },
      "execution_count": 1,
      "outputs": [
        {
          "output_type": "stream",
          "name": "stdout",
          "text": [
            "Requirement already satisfied: rir_generator in /usr/local/lib/python3.7/dist-packages (0.1.0)\n",
            "Requirement already satisfied: cffi>=1.1.0 in /usr/local/lib/python3.7/dist-packages (from rir_generator) (1.15.0)\n",
            "Requirement already satisfied: scipy>=0.13.0 in /usr/local/lib/python3.7/dist-packages (from rir_generator) (1.4.1)\n",
            "Requirement already satisfied: numpy>=1.6 in /usr/local/lib/python3.7/dist-packages (from rir_generator) (1.21.5)\n",
            "Requirement already satisfied: pycparser in /usr/local/lib/python3.7/dist-packages (from cffi>=1.1.0->rir_generator) (2.21)\n"
          ]
        }
      ]
    },
    {
      "cell_type": "code",
      "source": [
        "import numpy as np\n",
        "import scipy.signal as ss\n",
        "import soundfile as sf\n",
        "import rir_generator as rir\n",
        "from IPython.display import Audio \n",
        "from IPython.core.display import display\n",
        "import matplotlib.pyplot as plt\n",
        "\n",
        "# A script to generate the Impulse Response (IR) Functions of a rectangular room\n",
        "# of a given size with given receiver and source positions and given Reverberation time T60.\n",
        "\n",
        "# https://github.com/audiolabs/rir-generator\n",
        "# pip install rir-generator\n",
        "# pip install SoundFile\n",
        "\n",
        "#signal, fs = sf.read(\"bark.wav\", always_2d=True)\n",
        "\n",
        "def my_convolution(IR_data, signal):\n",
        "  #return ss.convolve(IR_data, signal, mode='full')\n",
        "  #return ss.convolve(signal, IR_data, mode='same')\n",
        "\treturn ss.convolve(signal, IR_data, mode='valid')\n",
        " \n",
        "def render_history(history):\n",
        "    plt.plot(history[\"loss\"], label=\"loss\")\n",
        "    #plt.plot(history[\"val_loss\"], label=\"val_loss\")\n",
        "    plt.legend()\n",
        "    plt.title(\"Our losses\")\n",
        "    plt.show()\n",
        "    plt.close()\n",
        "\n",
        "#samplerate = 2**13\n",
        "samplerate = 2**9\n",
        "\n",
        "#reverberation_times = [0.4, 0.6, 0.8]\n",
        "reverberation_times = [0.4]\n",
        "IR_datas = []\n",
        "idx = 0\n",
        "for reverberation_time in reverberation_times:\n",
        "    IR_data = rir.generate(\n",
        "    \tc=340,                  # Sound velocity (m/s)\n",
        "    \tfs=samplerate,                  # Sample frequency (samples/s)\n",
        "    \tr=[                     # Receiver position(s) [x y z] (m)\n",
        "    \t    [4.5, 2.5, 1.5]\n",
        "    \t],\n",
        "    \ts=[0.5, 2.5, 1.5],          # Source position [x y z] (m)\n",
        "    \tL=[5, 5, 3],            # Room dimensions [x y z] (m)\n",
        "    \treverberation_time=reverberation_time, # Reverberation time T60 (s)\n",
        "    \tnsample=samplerate,           # Number of output samples\n",
        "\t)\n",
        "    print(IR_data.shape)              # (4096, 3)\n",
        "    IR_datas.append(IR_data)\n",
        "    #sf.write('random_IRs/IRF_'+str(idx)+'.wav', IR_data, samplerate)\n",
        "    idx = idx +1\t\n",
        "\n",
        "#print(signal.shape)         # (11462, 2)\n",
        "\n",
        "# Convolve 2-channel signal with 3 impulse responses\n",
        "#signal = ss.convolve(h[:, None, :], signal[:, :, None])\n",
        "\n",
        "#print(signal.shape)         # (15557, 2, 3)"
      ],
      "metadata": {
        "colab": {
          "base_uri": "https://localhost:8080/"
        },
        "id": "uMHgjjaW5k7n",
        "outputId": "72546f87-8e8e-4857-c477-cbd9647e923c"
      },
      "execution_count": 2,
      "outputs": [
        {
          "output_type": "stream",
          "name": "stdout",
          "text": [
            "(512, 1)\n"
          ]
        }
      ]
    },
    {
      "cell_type": "code",
      "source": [
        "N = 2*samplerate\n",
        "batch = 10000\n",
        "split = batch\n",
        "IR_data = IR_datas[0].T[0]\n",
        "signal = np.random.randn(batch*N)\n",
        "signals = np.array(np.array_split(signal, split))\n",
        "transformed_signals = []\n",
        "for signal in signals:\n",
        "  transformed_signal = my_convolution(IR_data, signal)\n",
        "  transformed_signals.append(transformed_signal)\n",
        "\n",
        "transformed_signals = np.array(transformed_signals)\n",
        "print(signal.shape)\n",
        "print(signals.shape)\n",
        "print(transformed_signal.shape)\n",
        "print(transformed_signals.shape)\n",
        "display(Audio(np.array(signals[0]), rate=samplerate, autoplay=False))\n",
        "display(Audio(np.array(transformed_signals[0]), rate=samplerate, autoplay=False))"
      ],
      "metadata": {
        "colab": {
          "base_uri": "https://localhost:8080/",
          "height": 202
        },
        "id": "x6BYRygm3X2l",
        "outputId": "0684b2a7-a2e3-4a3a-d554-9a4b0243fe03"
      },
      "execution_count": 3,
      "outputs": [
        {
          "output_type": "stream",
          "name": "stdout",
          "text": [
            "(1024,)\n",
            "(10000, 1024)\n",
            "(513,)\n",
            "(10000, 513)\n"
          ]
        },
        {
          "output_type": "display_data",
          "data": {
            "text/plain": [
              "<IPython.lib.display.Audio object>"
            ],
            "text/html": [
              "\n",
              "                <audio controls=\"controls\" >\n",
              "                    <source src=\"data:audio/wav;base64,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\" type=\"audio/wav\" />\n",
              "                    Your browser does not support the audio element.\n",
              "                </audio>\n",
              "              "
            ]
          },
          "metadata": {}
        },
        {
          "output_type": "display_data",
          "data": {
            "text/plain": [
              "<IPython.lib.display.Audio object>"
            ],
            "text/html": [
              "\n",
              "                <audio controls=\"controls\" >\n",
              "                    <source src=\"data:audio/wav;base64,UklGRiYEAABXQVZFZm10IBAAAAABAAEAAAIAAAAEAAACABAAZGF0YQIEAACO1GH3wytw6GMVSO5K+WvYEEAtEa0H2xYh2pwxwNagA6zvkCmq09QLH/Z6EIjjxfOa9bFR0+l9H+jb8dHbJzkAjgqmJjbxx86T/zjY1jlWDVvrRgIQHq7yufqm1Kw5L/Fp4oEBOd0OCP34ZDZ19ooI1fiDDgkf4OwB5lAJZ+vhE8QYVxsCySndM0Df5sArMQ5M9+k6w8AI9PX/tCNL84H4QwC06N68nytBM/ENaRmg9D4HuB8yuewSEQ5RChzKkP4a4tvi/xNVNp0kAPlmw9svax81BIcHeuZZDXq8wgJqG2PjiiMLChIESPzO2w8Mb/umOqD2S8KX2SAHoQ7h1UvzIAbH/ffDP/1LaSTmq572Q04Iw7APDzoYfgxt3MrmLu/X97vwez7fJdPptNQDB+4TpNo7MWsUMtOZA3P6Eds7DDsdBwCsBvfwxQFDB7zA3TIJEH32FSAcrzgIJEMKygDuhQ6yD3r4kAEDF9PH9+/s+SYXIf2BAWH8SrNwIJRBj+x444voalHvvJLiwVXZ3/LiVQkW93EFYeA3P+3wMihI21/ENUxk2GoKxyM8z2z3xe3j+GoRTxuT8hb5kCTi4wTjdxwI4igUYd4m7H/uLvULIRf0EARvGUXb5BXYGy/ZI/OLEsv1/ea9zjMxuOQFzVBCFSLd/SnhDxkdDp4K1Axw07L5oPYtFuf/mq0xYBQg4tDUNIjldhnYuJIFnTmWAd4GqeKsx4IvFf9kMbfTYzkfFM/bFAgGFCz2MPloLV3+AYByWH4V48hwFN4jsS3KwXS/jFPeMJXcSSR5AFnqEvhc8QIR+C/lBKP8J8ht6okNJSy6HRj6BwD276X+WOuoH2MjRMpO84Qjstr4GDH9jRKT5arubAa4+aUURuaJ6oUOmPU91CXvSHBg60fE5CKP5iXLqi8Yv1hNKf4K3FP6Pb50GBtdruEJ7GX+wwQ2+sPYOkIbL/7dosnUQgInesE239MnHRBb4HQRaTrrtXQHsxKqG8bprNkCOj0eJ9RazgozGfi/96QbQzHD4UbdrvjFS2mscjNKKB7YY/XYBKIJVd3b9otNv/vCtO7xmSJNLSMC9SO/0HgNl/QrHt4ErfxF694H+uQbOubi3/uHDXQmK8VaHUwEex9F8b/93APdxaP9AuSGP50Rh+Bw6Y/u7hTNAD3/hiz+0gQPNvan9+byxvBKJHMZ9qkGRvIDXdNJ4+BXPSZ4yHQ4bLTW8pjYDCOOGt8KgMWcIyDpygUa/EIG5wSMI+3ubRLv0YbwHjQ59tcUFemU3fbVpEj3DgQSKPHuBDrdCwzt+d3n1v/dIj0qc5sXAC8MxUl478LpzTe15DfavUT/6/P3wdkZHTMTB/0342DyOv0=\" type=\"audio/wav\" />\n",
              "                    Your browser does not support the audio element.\n",
              "                </audio>\n",
              "              "
            ]
          },
          "metadata": {}
        }
      ]
    },
    {
      "cell_type": "code",
      "source": [
        "plt.plot(signals[0])\n",
        "plt.show()"
      ],
      "metadata": {
        "colab": {
          "base_uri": "https://localhost:8080/",
          "height": 264
        },
        "id": "1Q3T4jYAFU2J",
        "outputId": "78575145-52c0-4132-d9eb-b5cff9d2eae1"
      },
      "execution_count": 4,
      "outputs": [
        {
          "output_type": "display_data",
          "data": {
            "text/plain": [
              "<Figure size 432x288 with 1 Axes>"
            ],
            "image/png": "[encoded data removed]"
          },
          "metadata": {
            "needs_background": "light"
          }
        }
      ]
    },
    {
      "cell_type": "code",
      "source": [
        "plt.plot(transformed_signals[0])\n",
        "plt.show()"
      ],
      "metadata": {
        "colab": {
          "base_uri": "https://localhost:8080/",
          "height": 264
        },
        "id": "kSXJ3OAuFf-T",
        "outputId": "a7fde073-a99a-4546-c6ff-946a078e3765"
      },
      "execution_count": 5,
      "outputs": [
        {
          "output_type": "display_data",
          "data": {
            "text/plain": [
              "<Figure size 432x288 with 1 Axes>"
            ],
            "image/png": "[encoded data removed]"
          },
          "metadata": {
            "needs_background": "light"
          }
        }
      ]
    },
    {
      "cell_type": "code",
      "source": [
        "from keras.models import Sequential\n",
        "from keras.layers import Dense, Convolution1D\n",
        "\n",
        "X = signals\n",
        "y = transformed_signals\n",
        "\n",
        "# Create model with no hidden layers, same number of outputs as inputs.\n",
        "# No bias needed.  No activation function, \n",
        "# since DFT is linear.\n",
        "model = Sequential([Dense(y.shape[1], input_dim=X.shape[1], use_bias=False, activation=None)])\n",
        "#model = Sequential([Convolution1D(N, kernel_size=N, padding='causal', input_shape=(None, 256), dilation_rate=1, use_bias=False, activation=None)])\n",
        "model.summary()\n",
        "model.compile(loss='mean_squared_error', optimizer='adam')\n",
        "history = model.fit(X, y, epochs=35, batch_size=100, verbose='auto')\n",
        "print(f\"history.history['loss'][-1]: {history.history['loss'][-1]}\")\n",
        "render_history(history.history)"
      ],
      "metadata": {
        "colab": {
          "base_uri": "https://localhost:8080/",
          "height": 1000
        },
        "id": "7jdbpNyNO9Ol",
        "outputId": "6ab15033-6c81-4100-a03f-3e8b7a7bf786"
      },
      "execution_count": 6,
      "outputs": [
        {
          "output_type": "stream",
          "name": "stdout",
          "text": [
            "Model: \"sequential\"\n",
            "_________________________________________________________________\n",
            " Layer (type)                Output Shape              Param #   \n",
            "=================================================================\n",
            " dense (Dense)               (None, 513)               525312    \n",
            "                                                                 \n",
            "=================================================================\n",
            "Total params: 525,312\n",
            "Trainable params: 525,312\n",
            "Non-trainable params: 0\n",
            "_________________________________________________________________\n",
            "Epoch 1/35\n",
            "100/100 [==============================] - 1s 3ms/step - loss: 0.6520\n",
            "Epoch 2/35\n",
            "100/100 [==============================] - 0s 3ms/step - loss: 0.0642\n",
            "Epoch 3/35\n",
            "100/100 [==============================] - 0s 3ms/step - loss: 0.0047\n",
            "Epoch 4/35\n",
            "100/100 [==============================] - 0s 3ms/step - loss: 2.5560e-04\n",
            "Epoch 5/35\n",
            "100/100 [==============================] - 0s 3ms/step - loss: 9.8522e-06\n",
            "Epoch 6/35\n",
            "100/100 [==============================] - 0s 3ms/step - loss: 2.5381e-07\n",
            "Epoch 7/35\n",
            "100/100 [==============================] - 0s 3ms/step - loss: 4.1705e-09\n",
            "Epoch 8/35\n",
            "100/100 [==============================] - 0s 3ms/step - loss: 4.2069e-11\n",
            "Epoch 9/35\n",
            "100/100 [==============================] - 0s 3ms/step - loss: 2.6927e-13\n",
            "Epoch 10/35\n",
            "100/100 [==============================] - 0s 4ms/step - loss: 1.1420e-14\n",
            "Epoch 11/35\n",
            "100/100 [==============================] - 0s 3ms/step - loss: 1.0079e-14\n",
            "Epoch 12/35\n",
            "100/100 [==============================] - 0s 4ms/step - loss: 9.6747e-15\n",
            "Epoch 13/35\n",
            "100/100 [==============================] - 0s 2ms/step - loss: 9.1414e-15\n",
            "Epoch 14/35\n",
            "100/100 [==============================] - 0s 2ms/step - loss: 8.5755e-15\n",
            "Epoch 15/35\n",
            "100/100 [==============================] - 0s 2ms/step - loss: 7.9814e-15\n",
            "Epoch 16/35\n",
            "100/100 [==============================] - 0s 2ms/step - loss: 7.4053e-15\n",
            "Epoch 17/35\n",
            "100/100 [==============================] - 0s 2ms/step - loss: 6.8921e-15\n",
            "Epoch 18/35\n",
            "100/100 [==============================] - 0s 2ms/step - loss: 6.4940e-15\n",
            "Epoch 19/35\n",
            "100/100 [==============================] - 0s 2ms/step - loss: 6.1128e-15\n",
            "Epoch 20/35\n",
            "100/100 [==============================] - 0s 2ms/step - loss: 5.7433e-15\n",
            "Epoch 21/35\n",
            "100/100 [==============================] - 0s 2ms/step - loss: 5.3669e-15\n",
            "Epoch 22/35\n",
            "100/100 [==============================] - 0s 2ms/step - loss: 5.0332e-15\n",
            "Epoch 23/35\n",
            "100/100 [==============================] - 0s 2ms/step - loss: 4.7723e-15\n",
            "Epoch 24/35\n",
            "100/100 [==============================] - 0s 2ms/step - loss: 4.5535e-15\n",
            "Epoch 25/35\n",
            "100/100 [==============================] - 0s 2ms/step - loss: 4.3504e-15\n",
            "Epoch 26/35\n",
            "100/100 [==============================] - 0s 2ms/step - loss: 4.2471e-15\n",
            "Epoch 27/35\n",
            "100/100 [==============================] - 0s 2ms/step - loss: 4.1703e-15\n",
            "Epoch 28/35\n",
            "100/100 [==============================] - 0s 2ms/step - loss: 4.0817e-15\n",
            "Epoch 29/35\n",
            "100/100 [==============================] - 0s 2ms/step - loss: 4.1140e-15\n",
            "Epoch 30/35\n",
            "100/100 [==============================] - 0s 2ms/step - loss: 4.2098e-15\n",
            "Epoch 31/35\n",
            "100/100 [==============================] - 0s 2ms/step - loss: 4.4429e-15\n",
            "Epoch 32/35\n",
            "100/100 [==============================] - 0s 2ms/step - loss: 4.8816e-15\n",
            "Epoch 33/35\n",
            "100/100 [==============================] - 0s 2ms/step - loss: 5.7443e-15\n",
            "Epoch 34/35\n",
            "100/100 [==============================] - 0s 2ms/step - loss: 7.3397e-15\n",
            "Epoch 35/35\n",
            "100/100 [==============================] - 0s 2ms/step - loss: 1.0719e-14\n",
            "history.history['loss'][-1]: 1.0718603095209462e-14\n"
          ]
        },
        {
          "output_type": "display_data",
          "data": {
            "text/plain": [
              "<Figure size 432x288 with 1 Axes>"
            ],
            "image/png": "[encoded data removed]"
          },
          "metadata": {
            "needs_background": "light"
          }
        }
      ]
    },
    {
      "cell_type": "code",
      "source": [
        "datas = np.random.randn(2,N)\n",
        "transformed_datas = []\n",
        "for data in datas:\n",
        "  transformed_data = my_convolution(IR_data, data)\n",
        "  transformed_datas.append(transformed_data)\n",
        "\n",
        "prediction = model.predict(datas)\n",
        "print(f'Convolution matches NN: {np.allclose(prediction, transformed_datas, rtol=1e-02)}')"
      ],
      "metadata": {
        "colab": {
          "base_uri": "https://localhost:8080/"
        },
        "id": "EbklHATd4el9",
        "outputId": "77fb39f0-99f0-4432-990d-25273febad95"
      },
      "execution_count": 7,
      "outputs": [
        {
          "output_type": "stream",
          "name": "stdout",
          "text": [
            "Convolution matches NN: True\n"
          ]
        }
      ]
    },
    {
      "cell_type": "code",
      "source": [
        "prediction - transformed_datas"
      ],
      "metadata": {
        "colab": {
          "base_uri": "https://localhost:8080/"
        },
        "id": "-OkZ6qPJ_bbm",
        "outputId": "32f730a7-7e00-47ae-f7c1-b98b7d4b786c"
      },
      "execution_count": 8,
      "outputs": [
        {
          "output_type": "execute_result",
          "data": {
            "text/plain": [
              "array([[ 1.23402362e-07, -1.28361856e-07,  1.03314475e-07, ...,\n",
              "         1.38638435e-07, -1.13673709e-07,  1.30544371e-07],\n",
              "       [-8.07639086e-09,  5.04047155e-08,  1.27881013e-07, ...,\n",
              "        -1.77654640e-07, -9.95592292e-08,  9.86224932e-08]])"
            ]
          },
          "metadata": {},
          "execution_count": 8
        }
      ]
    }
  ]
}