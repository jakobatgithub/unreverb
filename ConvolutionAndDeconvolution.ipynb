{
  "nbformat": 4,
  "nbformat_minor": 0,
  "metadata": {
    "colab": {
      "name": "DetermineIRWithDenseNN.ipynb",
      "provenance": [],
      "collapsed_sections": [],
      "mount_file_id": "1SRUKY4yx8QV3in901ypooX29d5Xl-1eH",
      "authorship_tag": "ABX9TyNXOnda8t1b9gUEP5wkk5Ap",
      "include_colab_link": true
    },
    "kernelspec": {
      "name": "python3",
      "display_name": "Python 3"
    },
    "language_info": {
      "name": "python"
    },
    "accelerator": "GPU"
  },
  "cells": [
    {
      "cell_type": "markdown",
      "metadata": {
        "id": "view-in-github",
        "colab_type": "text"
      },
      "source": [
        "<a href=\"https://colab.research.google.com/github/jakobatgithub/unreverb/blob/main/ConvolutionAndDeconvolution.ipynb\" target=\"_parent\"><img src=\"https://colab.research.google.com/assets/colab-badge.svg\" alt=\"Open In Colab\"/></a>"
      ]
    },
    {
      "cell_type": "code",
      "source": [
        "!pip install rir_generator"
      ],
      "metadata": {
        "colab": {
          "base_uri": "https://localhost:8080/"
        },
        "id": "9hFRUmeB5ONY",
        "outputId": "ff8a47ac-b540-42aa-c14f-ad081d37ad69"
      },
      "execution_count": 1,
      "outputs": [
        {
          "output_type": "stream",
          "name": "stdout",
          "text": [
            "Collecting rir_generator\n",
            "  Downloading rir-generator-0.1.0.tar.gz (8.6 kB)\n",
            "Requirement already satisfied: numpy>=1.6 in /usr/local/lib/python3.7/dist-packages (from rir_generator) (1.21.5)\n",
            "Requirement already satisfied: scipy>=0.13.0 in /usr/local/lib/python3.7/dist-packages (from rir_generator) (1.4.1)\n",
            "Requirement already satisfied: cffi>=1.1.0 in /usr/local/lib/python3.7/dist-packages (from rir_generator) (1.15.0)\n",
            "Requirement already satisfied: pycparser in /usr/local/lib/python3.7/dist-packages (from cffi>=1.1.0->rir_generator) (2.21)\n",
            "Building wheels for collected packages: rir-generator\n",
            "  Building wheel for rir-generator (setup.py) ... \u001b[?25l\u001b[?25hdone\n",
            "  Created wheel for rir-generator: filename=rir_generator-0.1.0-cp37-cp37m-linux_x86_64.whl size=29981 sha256=6bec93aa799a0aa02ff01c8e72bd212496dbcf18577281d0246cddf8372d6358\n",
            "  Stored in directory: /root/.cache/pip/wheels/f2/b8/44/24e3838f71aebbd5ce66bce52ffa435649fbb723a4e85544bc\n",
            "Successfully built rir-generator\n",
            "Installing collected packages: rir-generator\n",
            "Successfully installed rir-generator-0.1.0\n"
          ]
        }
      ]
    },
    {
      "cell_type": "code",
      "source": [
        "import numpy as np\n",
        "import scipy.signal as ss\n",
        "import soundfile as sf\n",
        "import rir_generator as rir\n",
        "from IPython.display import Audio \n",
        "from IPython.core.display import display\n",
        "import matplotlib.pyplot as plt\n",
        "\n",
        "# A script to generate the Impulse Response (IR) Functions of a rectangular room\n",
        "# of a given size with given receiver and source positions and given Reverberation time T60.\n",
        "\n",
        "# https://github.com/audiolabs/rir-generator\n",
        "# pip install rir-generator\n",
        "# pip install SoundFile\n",
        "\n",
        "#signal, fs = sf.read(\"bark.wav\", always_2d=True)\n",
        "\n",
        "def my_convolution(IR_data, signal):\n",
        "  # be careful with the order of IR_data and signal!\n",
        "  #return ss.convolve(IR_data, signal, mode='full')\n",
        "  #return ss.convolve(signal, IR_data, mode='same')\n",
        "\treturn ss.convolve(signal, IR_data, mode='valid')\n",
        " \n",
        "def render_history(history):\n",
        "    plt.plot(history[\"loss\"], label=\"loss\")\n",
        "    #plt.plot(history[\"val_loss\"], label=\"val_loss\")\n",
        "    plt.legend()\n",
        "    plt.title(\"Our losses\")\n",
        "    plt.show()\n",
        "    plt.close()\n",
        "\n",
        "#samplerate = 2**13\n",
        "samplerate = 2**9\n",
        "\n",
        "#reverberation_times = [0.4, 0.6, 0.8]\n",
        "reverberation_times = [0.8]\n",
        "IR_datas = []\n",
        "idx = 0\n",
        "for reverberation_time in reverberation_times:\n",
        "    IR_data = rir.generate(\n",
        "    \tc=340,                  # Sound velocity (m/s)\n",
        "    \tfs=samplerate,                  # Sample frequency (samples/s)\n",
        "    \tr=[                     # Receiver position(s) [x y z] (m)\n",
        "    \t    [4.5, 2.5, 1.5]\n",
        "    \t],\n",
        "    \ts=[0.5, 2.5, 1.5],          # Source position [x y z] (m)\n",
        "    \tL=[5, 5, 3],            # Room dimensions [x y z] (m)\n",
        "    \treverberation_time=reverberation_time, # Reverberation time T60 (s)\n",
        "    \tnsample=samplerate,           # Number of output samples\n",
        "\t)\n",
        "    print(IR_data.shape)              # (4096, 3)\n",
        "    IR_datas.append(IR_data)\n",
        "    #sf.write('random_IRs/IRF_'+str(idx)+'.wav', IR_data, samplerate)\n",
        "    idx = idx +1\t\n",
        "\n",
        "#print(signal.shape)         # (11462, 2)\n",
        "\n",
        "# Convolve 2-channel signal with 3 impulse responses\n",
        "#signal = ss.convolve(h[:, None, :], signal[:, :, None])\n",
        "\n",
        "#print(signal.shape)         # (15557, 2, 3)"
      ],
      "metadata": {
        "colab": {
          "base_uri": "https://localhost:8080/"
        },
        "id": "uMHgjjaW5k7n",
        "outputId": "c79f5c2a-32fd-4fe0-e9d0-2eb26e7a32d3"
      },
      "execution_count": 2,
      "outputs": [
        {
          "output_type": "stream",
          "name": "stdout",
          "text": [
            "(512, 1)\n"
          ]
        }
      ]
    },
    {
      "cell_type": "code",
      "source": [
        "N = 2*samplerate\n",
        "batch = 10000\n",
        "split = batch\n",
        "IR_data = IR_datas[0].T[0]\n",
        "signal = np.random.randn(batch*N)\n",
        "signals = np.array(np.array_split(signal, split))\n",
        "transformed_signals = []\n",
        "for signal in signals:\n",
        "  transformed_signal = my_convolution(IR_data, signal)\n",
        "  transformed_signals.append(transformed_signal)\n",
        "\n",
        "transformed_signals = np.array(transformed_signals)\n",
        "print(signal.shape)\n",
        "print(signals.shape)\n",
        "print(transformed_signal.shape)\n",
        "print(transformed_signals.shape)\n",
        "display(Audio(np.array(signals[0]), rate=samplerate, autoplay=False))\n",
        "display(Audio(np.array(transformed_signals[0]), rate=samplerate, autoplay=False))"
      ],
      "metadata": {
        "colab": {
          "base_uri": "https://localhost:8080/",
          "height": 202
        },
        "id": "x6BYRygm3X2l",
        "outputId": "23886a99-85ae-4e0b-f70d-660cb9d3674f"
      },
      "execution_count": 3,
      "outputs": [
        {
          "output_type": "stream",
          "name": "stdout",
          "text": [
            "(1024,)\n",
            "(10000, 1024)\n",
            "(513,)\n",
            "(10000, 513)\n"
          ]
        },
        {
          "output_type": "display_data",
          "data": {
            "text/plain": [
              "<IPython.lib.display.Audio object>"
            ],
            "text/html": [
              "\n",
              "                <audio controls=\"controls\" >\n",
              "                    <source src=\"data:audio/wav;base64,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\" type=\"audio/wav\" />\n",
              "                    Your browser does not support the audio element.\n",
              "                </audio>\n",
              "              "
            ]
          },
          "metadata": {}
        },
        {
          "output_type": "display_data",
          "data": {
            "text/plain": [
              "<IPython.lib.display.Audio object>"
            ],
            "text/html": [
              "\n",
              "                <audio controls=\"controls\" >\n",
              "                    <source src=\"data:audio/wav;base64,UklGRiYEAABXQVZFZm10IBAAAAABAAEAAAIAAAAEAAACABAAZGF0YQIEAADbGlfmq+hVCJEiNNh67/Eg0cdkG9QLKvju9dL9wCNz7TroAzpX+cu02+ZHGc8BbEH/0JZIMOkHrL/4VVTJB0EPUOz++5u15NLwUNUdODTL8nbdcuF/+MHuTVPTK/39TdxgxBnp7it3BcZCvxej1hTiFvBvCxYePwNWAvg9ZLt/A3EQJftM9qQ3yevpCtTJ9Pf6BovEKzvl6r7fSCxR+fUZ/dQJ2FlhBv5xzxj6iS9i14ybYz1hEDArbeasBt/8W8D2A0R127YxKIQXKcRtqyTofCzMFfIjDMS/Mnfj06XZN/9/BfPm04ITmvfMy5UQVjBoKXPT9uVXMADfQ9hGXg40Upgj41Ed0xHZ4SpfPOQM9orjpv/dCKf+p/JmMtvwvr42/2RebeB570xOMQh/usXoxw7jONHmY7DoOsULQ8VXOvsKVeZyVl68RQkVAnrwKww/S276Mtp31yULVN5oBflpzcKE8+P5HAEcSiTRMN7DLYzawulPDiHq6u0YCxAbOO2T5Awref1L7GT2ZzAPwaYf2DC0gakIRPRlMEv8SPljI/ioauU5YSwnZeLu6LXkN/T3DSgeT+cMGk/fzejI/zDFI1dZNL4sKbl6zxUjuggcL+pSx9U8rT7bze3lHW9GbA389Krjtsi6FA894QWtGXsWbaCh3OYIukDkFE0SttIiC7rh481oTq1TntkyzVsnyqYS9EZ0cAe/E1rTkAWbAtDgbx9HDV7z5Aeg+bzdZgyP+7M3TCeg0lC5thACLvEGDtxv6sPW088/SiAf7gH3/KPhau0wK/sb2C2Q67blKudq8KaUg0DvdJf4JOkztL/wRzR6BMcv1Tv23zSruf8j3EPqmmyuLm/buuy94OL8hu9PSNpAbrR7xnOkzjD6GqvwCirsCBzHavuJFoD4r/8Wa1LNN6/gyFEBQhhFG9UahRPpuPbLAxebNwz1/O5mKMPnZR1hmdLWai6BGfbrhEO1D1zEZ+06BmBb1vVk+BT6B96VKH33W5zZI1k9Mhir2x0I3S5b3VfHbV5BC2IImr9cBujlk828LoAIwwJTH40YWcu5Bb8QgQ1CzMUaINa0uAjpEg9ZJk/mjwJIKIH3awboJZcTT72i3ngjHuYYCpbmlOMUzd0p81m7+0QzF/vW9u/Mwi3995UW2Sv3xNC1iwf6EoYi+zDWIjfSZLqpPq/6HTs5HFIEGZ/E72QUOOmEKY0v7fGK1rjT1yK0/EUM4ydjBEe27tZhfFTLdO1GEhz3kSHG9ZYiw/X71XcXxLrmM54AcuAn9Xv/qAOC27cmuyylGaoJI9ZawmXuiv5NJ1wFiiYQnKX1Bu2bKSsw3/709b8QEs8DpkoogCFx2Yoce/792rrrggs=\" type=\"audio/wav\" />\n",
              "                    Your browser does not support the audio element.\n",
              "                </audio>\n",
              "              "
            ]
          },
          "metadata": {}
        }
      ]
    },
    {
      "cell_type": "code",
      "source": [
        "plt.plot(signals[0])\n",
        "plt.show()"
      ],
      "metadata": {
        "colab": {
          "base_uri": "https://localhost:8080/",
          "height": 264
        },
        "id": "1Q3T4jYAFU2J",
        "outputId": "008f4ea2-6bfe-4ef6-aae5-3cf2bd324f78"
      },
      "execution_count": 4,
      "outputs": [
        {
          "output_type": "display_data",
          "data": {
            "text/plain": [
              "<Figure size 432x288 with 1 Axes>"
            ],
            "image/png": "[encoded data removed]"
          },
          "metadata": {
            "needs_background": "light"
          }
        }
      ]
    },
    {
      "cell_type": "code",
      "source": [
        "plt.plot(transformed_signals[0])\n",
        "plt.show()"
      ],
      "metadata": {
        "colab": {
          "base_uri": "https://localhost:8080/",
          "height": 264
        },
        "id": "kSXJ3OAuFf-T",
        "outputId": "e6ff7e27-0550-4646-af79-c6208b1e2016"
      },
      "execution_count": 5,
      "outputs": [
        {
          "output_type": "display_data",
          "data": {
            "text/plain": [
              "<Figure size 432x288 with 1 Axes>"
            ],
            "image/png": "[encoded data removed]"
          },
          "metadata": {
            "needs_background": "light"
          }
        }
      ]
    },
    {
      "cell_type": "code",
      "source": [
        "from keras.models import Sequential\n",
        "from keras.layers import Dense, Convolution1D\n",
        "\n",
        "X = signals\n",
        "y = transformed_signals\n",
        "\n",
        "# Create model with no hidden layers, same number of outputs as inputs.\n",
        "# No bias needed.  No activation function, \n",
        "# since DFT is linear.\n",
        "model = Sequential([Dense(y.shape[1], input_dim=X.shape[1], use_bias=False, activation=None)])\n",
        "#model = Sequential([Convolution1D(N, kernel_size=N, padding='causal', input_shape=(None, 256), dilation_rate=1, use_bias=False, activation=None)])\n",
        "model.summary()\n",
        "model.compile(loss='mean_squared_error', optimizer='adam')\n",
        "history = model.fit(X, y, epochs=35, batch_size=100, verbose='auto')\n",
        "print(f\"history.history['loss'][-1]: {history.history['loss'][-1]}\")\n",
        "render_history(history.history)"
      ],
      "metadata": {
        "colab": {
          "base_uri": "https://localhost:8080/",
          "height": 1000
        },
        "id": "7jdbpNyNO9Ol",
        "outputId": "f4edb384-7cf1-4126-93e7-486703145aef"
      },
      "execution_count": 6,
      "outputs": [
        {
          "output_type": "stream",
          "name": "stdout",
          "text": [
            "Model: \"sequential\"\n",
            "_________________________________________________________________\n",
            " Layer (type)                Output Shape              Param #   \n",
            "=================================================================\n",
            " dense (Dense)               (None, 513)               525312    \n",
            "                                                                 \n",
            "=================================================================\n",
            "Total params: 525,312\n",
            "Trainable params: 525,312\n",
            "Non-trainable params: 0\n",
            "_________________________________________________________________\n",
            "Epoch 1/35\n",
            "100/100 [==============================] - 3s 2ms/step - loss: 0.6507\n",
            "Epoch 2/35\n",
            "100/100 [==============================] - 0s 2ms/step - loss: 0.0640\n",
            "Epoch 3/35\n",
            "100/100 [==============================] - 0s 2ms/step - loss: 0.0047\n",
            "Epoch 4/35\n",
            "100/100 [==============================] - 0s 2ms/step - loss: 2.5334e-04\n",
            "Epoch 5/35\n",
            "100/100 [==============================] - 0s 2ms/step - loss: 9.7680e-06\n",
            "Epoch 6/35\n",
            "100/100 [==============================] - 0s 2ms/step - loss: 2.5245e-07\n",
            "Epoch 7/35\n",
            "100/100 [==============================] - 0s 2ms/step - loss: 4.1917e-09\n",
            "Epoch 8/35\n",
            "100/100 [==============================] - 0s 2ms/step - loss: 4.2760e-11\n",
            "Epoch 9/35\n",
            "100/100 [==============================] - 0s 2ms/step - loss: 2.8142e-13\n",
            "Epoch 10/35\n",
            "100/100 [==============================] - 0s 2ms/step - loss: 1.1291e-14\n",
            "Epoch 11/35\n",
            "100/100 [==============================] - 0s 2ms/step - loss: 9.9548e-15\n",
            "Epoch 12/35\n",
            "100/100 [==============================] - 0s 2ms/step - loss: 9.5608e-15\n",
            "Epoch 13/35\n",
            "100/100 [==============================] - 0s 2ms/step - loss: 9.0921e-15\n",
            "Epoch 14/35\n",
            "100/100 [==============================] - 0s 2ms/step - loss: 8.5562e-15\n",
            "Epoch 15/35\n",
            "100/100 [==============================] - 0s 2ms/step - loss: 7.9967e-15\n",
            "Epoch 16/35\n",
            "100/100 [==============================] - 0s 2ms/step - loss: 7.4900e-15\n",
            "Epoch 17/35\n",
            "100/100 [==============================] - 0s 2ms/step - loss: 7.0151e-15\n",
            "Epoch 18/35\n",
            "100/100 [==============================] - 0s 2ms/step - loss: 6.5808e-15\n",
            "Epoch 19/35\n",
            "100/100 [==============================] - 0s 2ms/step - loss: 6.1990e-15\n",
            "Epoch 20/35\n",
            "100/100 [==============================] - 0s 2ms/step - loss: 5.8440e-15\n",
            "Epoch 21/35\n",
            "100/100 [==============================] - 0s 2ms/step - loss: 5.5470e-15\n",
            "Epoch 22/35\n",
            "100/100 [==============================] - 0s 2ms/step - loss: 5.2615e-15\n",
            "Epoch 23/35\n",
            "100/100 [==============================] - 0s 2ms/step - loss: 5.0182e-15\n",
            "Epoch 24/35\n",
            "100/100 [==============================] - 0s 2ms/step - loss: 4.8347e-15\n",
            "Epoch 25/35\n",
            "100/100 [==============================] - 0s 2ms/step - loss: 4.7112e-15\n",
            "Epoch 26/35\n",
            "100/100 [==============================] - 0s 2ms/step - loss: 4.5771e-15\n",
            "Epoch 27/35\n",
            "100/100 [==============================] - 0s 2ms/step - loss: 4.5311e-15\n",
            "Epoch 28/35\n",
            "100/100 [==============================] - 0s 2ms/step - loss: 4.5242e-15\n",
            "Epoch 29/35\n",
            "100/100 [==============================] - 0s 2ms/step - loss: 4.6111e-15\n",
            "Epoch 30/35\n",
            "100/100 [==============================] - 0s 2ms/step - loss: 4.7961e-15\n",
            "Epoch 31/35\n",
            "100/100 [==============================] - 0s 2ms/step - loss: 5.1680e-15\n",
            "Epoch 32/35\n",
            "100/100 [==============================] - 0s 2ms/step - loss: 5.7876e-15\n",
            "Epoch 33/35\n",
            "100/100 [==============================] - 0s 2ms/step - loss: 6.8093e-15\n",
            "Epoch 34/35\n",
            "100/100 [==============================] - 0s 2ms/step - loss: 8.7980e-15\n",
            "Epoch 35/35\n",
            "100/100 [==============================] - 0s 2ms/step - loss: 1.3061e-14\n",
            "history.history['loss'][-1]: 1.306131326819825e-14\n"
          ]
        },
        {
          "output_type": "display_data",
          "data": {
            "text/plain": [
              "<Figure size 432x288 with 1 Axes>"
            ],
            "image/png": "[encoded data removed]"
          },
          "metadata": {
            "needs_background": "light"
          }
        }
      ]
    },
    {
      "cell_type": "code",
      "source": [
        "datas = np.random.randn(2,N)\n",
        "transformed_datas = []\n",
        "for data in datas:\n",
        "  transformed_data = my_convolution(IR_data, data)\n",
        "  transformed_datas.append(transformed_data)\n",
        "\n",
        "prediction = model.predict(datas)\n",
        "print(f'Convolution matches NN: {np.allclose(prediction, transformed_datas, rtol=1e-02)}')"
      ],
      "metadata": {
        "colab": {
          "base_uri": "https://localhost:8080/"
        },
        "id": "EbklHATd4el9",
        "outputId": "36fa89b1-6b12-4dce-c77d-b102a884e4f2"
      },
      "execution_count": 7,
      "outputs": [
        {
          "output_type": "stream",
          "name": "stdout",
          "text": [
            "Convolution matches NN: False\n"
          ]
        }
      ]
    },
    {
      "cell_type": "code",
      "source": [
        "prediction - transformed_datas"
      ],
      "metadata": {
        "colab": {
          "base_uri": "https://localhost:8080/"
        },
        "id": "-OkZ6qPJ_bbm",
        "outputId": "b14c56ba-6693-4dcd-ab59-3955348e4d81"
      },
      "execution_count": 8,
      "outputs": [
        {
          "output_type": "execute_result",
          "data": {
            "text/plain": [
              "array([[-1.61332783e-07,  1.21925466e-07, -1.13527672e-07, ...,\n",
              "         2.28799852e-08,  5.36053949e-08,  6.91730756e-08],\n",
              "       [ 1.00830163e-07, -1.59214119e-07, -1.65054405e-07, ...,\n",
              "        -1.16927255e-07, -5.38485310e-08, -5.06826298e-08]])"
            ]
          },
          "metadata": {},
          "execution_count": 8
        }
      ]
    },
    {
      "cell_type": "code",
      "source": [
        "import tensorflow as tf\n",
        "import tensorflow_datasets as tfds\n",
        "import numpy as np\n",
        "\n",
        "from google.colab import drive\n",
        "drive.mount('/content/drive')"
      ],
      "metadata": {
        "id": "4yqP0euMknWN",
        "outputId": "b5d62ec2-974b-4e71-ceea-a60b145f582c",
        "colab": {
          "base_uri": "https://localhost:8080/"
        }
      },
      "execution_count": 11,
      "outputs": [
        {
          "output_type": "stream",
          "name": "stdout",
          "text": [
            "Mounted at /content/drive\n"
          ]
        }
      ]
    },
    {
      "cell_type": "code",
      "source": [
        "# load data\n",
        "# paths of the tensorflow datasets\n",
        "path = '/content/drive/My Drive/dsr_project/data/HarvardWordList/'\n",
        "\n",
        "# load and concatenate the tensorflow datasets\n",
        "dataset = tf.data.experimental.load(path + \"tf_randomIRFs_dataset\")\n",
        "# determine size of the dataset\n",
        "dataset_size = sum(1 for _ in dataset)\n",
        "print(f\"dataset_size: {dataset_size}\")\n",
        "\n",
        "def lambda_1(features, labels, targets):\n",
        "  return (features, labels)\n",
        "\n",
        "def lambda_2(features, labels, targets):\n",
        "  return (features, targets)\n",
        "\n",
        "def lambda_3(features, labels, targets):\n",
        "  return labels\n",
        "\n",
        "# obtain the datasets containing only labels or targets\n",
        "label_dataset = dataset.map(lambda features, labels, targets: lambda_1(features, labels, targets))\n",
        "target_dataset = dataset.map(lambda features, labels, targets: lambda_2(features, labels, targets))\n",
        "\n",
        "# obtain all labels\n",
        "all_labels = dataset.map(lambda features, labels, targets: lambda_3(features, labels, targets))\n",
        "\n",
        "# transform all_labels dataset to numpy array\n",
        "all_labels_np = []\n",
        "for label in all_labels:\n",
        "  all_labels_np.append(tfds.as_numpy(label))\n",
        "\n",
        "all_labels_np = np.array(all_labels_np)\n",
        "\n",
        "# determine unique labels\n",
        "unique_labels, counts = np.unique(all_labels_np, return_counts=True)\n",
        "print(f\"unique_labels: {unique_labels}\")\n",
        "#print(counts)\n",
        "\n",
        "# determine number of unique labels\n",
        "nr_of_unique_labels = unique_labels.shape[0]\n",
        "print(f\"nr_of_unique_labels: {nr_of_unique_labels}\")\n",
        "\n",
        "# shuffle the dataset before splitting in train and validate!\n",
        "label_dataset = label_dataset.shuffle(dataset_size)\n",
        "\n",
        "# split dataset in train and validate\n",
        "train_fraction = 0.8\n",
        "validate_dataset_size = int(dataset_size * (1.0-train_fraction)) # 20 percent of dataset_size\n",
        "train_dataset = label_dataset.skip(validate_dataset_size)\n",
        "validate_dataset = label_dataset.take(validate_dataset_size)"
      ],
      "metadata": {
        "id": "Vf1bN7tckZ7w",
        "outputId": "6498d6d9-f11b-4903-b7fb-e1a8eb8fa14b",
        "colab": {
          "base_uri": "https://localhost:8080/"
        }
      },
      "execution_count": 12,
      "outputs": [
        {
          "output_type": "stream",
          "name": "stdout",
          "text": [
            "dataset_size: 740\n",
            "unique_labels: [0 1 2 3 4 5 6 7 8 9]\n",
            "nr_of_unique_labels: 10\n"
          ]
        }
      ]
    },
    {
      "cell_type": "code",
      "source": [
        "for features, targets in target_dataset.take(1):\n",
        "  signal = targets.numpy()"
      ],
      "metadata": {
        "id": "6L9Uf1tXk2An"
      },
      "execution_count": 18,
      "outputs": []
    },
    {
      "cell_type": "code",
      "source": [
        "ss.convolve(signal, IR_data, mode='same')"
      ],
      "metadata": {
        "id": "oyH-3Qa-lISG",
        "outputId": "f394debb-785b-422a-a21f-47c29d255114",
        "colab": {
          "base_uri": "https://localhost:8080/"
        }
      },
      "execution_count": 19,
      "outputs": [
        {
          "output_type": "execute_result",
          "data": {
            "text/plain": [
              "(1, 64000)"
            ]
          },
          "metadata": {},
          "execution_count": 19
        }
      ]
    },
    {
      "cell_type": "code",
      "source": [
        ""
      ],
      "metadata": {
        "id": "H4qA_-JHlK9s"
      },
      "execution_count": null,
      "outputs": []
    }
  ]
}