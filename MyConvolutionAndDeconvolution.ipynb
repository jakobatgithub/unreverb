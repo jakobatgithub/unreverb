{
  "nbformat": 4,
  "nbformat_minor": 0,
  "metadata": {
    "colab": {
      "name": "MyConvolutionAndDeconvolution.ipynb",
      "provenance": [],
      "collapsed_sections": [],
      "machine_shape": "hm",
      "private_outputs": true,
      "mount_file_id": "1SRUKY4yx8QV3in901ypooX29d5Xl-1eH",
      "authorship_tag": "ABX9TyNfIfWOSZuE+5Lf4F9UUPjg",
      "include_colab_link": true
    },
    "kernelspec": {
      "name": "python3",
      "display_name": "Python 3"
    },
    "language_info": {
      "name": "python"
    },
    "accelerator": "GPU"
  },
  "cells": [
    {
      "cell_type": "markdown",
      "metadata": {
        "id": "view-in-github",
        "colab_type": "text"
      },
      "source": [
        "<a href=\"https://colab.research.google.com/github/jakobatgithub/unreverb/blob/main/MyConvolutionAndDeconvolution.ipynb\" target=\"_parent\"><img src=\"https://colab.research.google.com/assets/colab-badge.svg\" alt=\"Open In Colab\"/></a>"
      ]
    },
    {
      "cell_type": "code",
      "source": [
        "!pip install rir_generator"
      ],
      "metadata": {
        "id": "9hFRUmeB5ONY"
      },
      "execution_count": null,
      "outputs": []
    },
    {
      "cell_type": "code",
      "source": [
        "from google.colab import drive\n",
        "drive.mount('/content/drive')"
      ],
      "metadata": {
        "id": "4yqP0euMknWN"
      },
      "execution_count": null,
      "outputs": []
    },
    {
      "cell_type": "code",
      "source": [
        "import numpy as np\n",
        "import librosa\n",
        "import matplotlib.pyplot as plt\n",
        "import rir_generator as rir\n",
        "from IPython.display import Audio \n",
        "from IPython.core.display import display\n",
        "from numpy.fft import fft, ifft\n",
        "\n",
        "#sample_rate = 512\n",
        "#sample_rate = 24000\n",
        "sample_rate = 2**14\n",
        "\n",
        "def wiener_deconvolution(signal, kernel, lambd=1e-3):\n",
        "  kernel = np.hstack((kernel, np.zeros(len(signal) - len(kernel)))) # zero pad the kernel to same length\n",
        "  H = fft(kernel)\n",
        "  Y = fft(signal)\n",
        "  S = np.abs(fft(signal))**2\n",
        "  #GY = Y*np.conj(H)*S/(H*np.conj(H)*S + lambd**2)\n",
        "  GY = Y*np.conj(H)/(H*np.conj(H) + lambd**2)\n",
        "  deconvolved = np.real(ifft(GY))\n",
        "  return deconvolved\n",
        "\n",
        "def my_conv(signal, kernel):\n",
        "  kernel_padded = np.hstack((kernel, np.zeros(len(signal) - len(kernel))))\n",
        "  convolved_signal = np.real(ifft(fft(kernel_padded)*fft(signal)))\n",
        "  return convolved_signal\n",
        "  \n",
        "\n",
        "audiopath = '/content/drive/MyDrive/dsr_project/data/but-czas_v1.0/wavs/F-22-02/F-22-02-003.wav'\n",
        "audiopath_2 = '/content/drive/MyDrive/dsr_project/data/but-czas_v1.0/wavs/M-39-10/M-39-10-001.wav'\n",
        "irpath = '/content/drive/MyDrive/dsr_project/data/arthur-sykes-rymer-auditorium-university-york/b-format/s1r2.wav'\n",
        "\n",
        "art_IR = rir.generate(\n",
        "    \tc=340,                  # Sound velocity (m/s)\n",
        "    \tfs=sample_rate,                  # Sample frequency (samples/s)\n",
        "    \tr=[                     # Receiver position(s) [x y z] (m)\n",
        "    \t    [2.5, 2, 1.5]\n",
        "    \t],\n",
        "    \ts=[3.0, 2, 1.5],          # Source position [x y z] (m)\n",
        "    \tL=[7, 5, 3],            # Room dimensions [x y z] (m)\n",
        "    \treverberation_time=2.0, # Reverberation time T60 (s)\n",
        "    \tnsample=sample_rate,           # Number of output samples\n",
        "\t)\n",
        "art_IR = art_IR[:,0]\n",
        "\n",
        "art_IR_2 = rir.generate(\n",
        "    \tc=340,                  # Sound velocity (m/s)\n",
        "    \tfs=sample_rate,                  # Sample frequency (samples/s)\n",
        "    \tr=[                     # Receiver position(s) [x y z] (m)\n",
        "    \t    [2.5, 2, 1.5]\n",
        "    \t],\n",
        "    \ts=[3.0, 2, 1.5],          # Source position [x y z] (m)\n",
        "    \tL=[7, 5, 3],            # Room dimensions [x y z] (m)\n",
        "    \treverberation_time=0.95*2.0, # Reverberation time T60 (s)\n",
        "    \tnsample=sample_rate,           # Number of output samples\n",
        "\t)\n",
        "art_IR_2 = art_IR_2[:,0]\n",
        "\n",
        "audio, audio_sample_rate = librosa.load(audiopath, sr=sample_rate) # Downsample to 24kHz\n",
        "audio_2, audio_sample_rate_2 = librosa.load(audiopath_2, sr=sample_rate) # Downsample to 24kHz\n",
        "IR, IR_sample_rate = librosa.load(irpath, sr=sample_rate) # Downsample to 24kHz\n",
        "\n",
        "print(f\"audio_sample_rate: {audio_sample_rate}, audio.shape: {audio.shape}, max: {np.max(audio)}, min: {np.min(audio)}\")\n",
        "print(f\"IR_sample_rate:    {IR_sample_rate},    IR.shape: {IR.shape},   max: {np.max(IR)}, min: {np.min(IR)}\")\n",
        "display(Audio(audio[:10*sample_rate], rate=sample_rate))\n",
        "display(Audio(IR, rate=sample_rate))\n",
        "plt.plot(audio)\n",
        "plt.show()\n",
        "plt.plot(IR)\n",
        "plt.show()"
      ],
      "metadata": {
        "id": "nm0nZ4C9VC-j"
      },
      "execution_count": null,
      "outputs": []
    },
    {
      "cell_type": "code",
      "source": [
        "audio_reverb = my_conv(audio, IR)\n",
        "deconvolved = wiener_deconvolution(audio_reverb, IR, lambd=10**(-6))\n",
        "#print(f\"max: {np.max(deconvolved)}, min: {np.min(deconvolved)}\")\n",
        "\n",
        "display(Audio(audio[:2*sample_rate], rate=sample_rate))\n",
        "display(Audio(audio_reverb[:2*sample_rate], rate=sample_rate))\n",
        "display(Audio(deconvolved[:2*sample_rate], rate=sample_rate))\n",
        "\n",
        "delta = audio - deconvolved\n",
        "print(f\"max: {np.max(delta)}, min: {np.min(delta)}, mean error: {np.sqrt(np.square(delta).mean())}\")\n",
        "plt.plot(delta[:2*sample_rate])\n",
        "plt.show()\n",
        "\n",
        "mes = []\n",
        "for expo in range(-10, 10, 1):\n",
        "  deconvolved = wiener_deconvolution(audio_reverb, IR, lambd=10**(expo))\n",
        "  mes.append([10**(expo), np.sqrt(np.square(np.subtract(deconvolved, audio)).mean())])\n",
        "\n",
        "mes"
      ],
      "metadata": {
        "id": "61R2N5CNZ_X1"
      },
      "execution_count": null,
      "outputs": []
    },
    {
      "cell_type": "code",
      "source": [
        "audio_reverb = my_conv(audio, art_IR)\n",
        "deconvolved = wiener_deconvolution(audio_reverb, art_IR, lambd=0.0)\n",
        "\n",
        "print(f\"max: {np.max(deconvolved)}, min: {np.min(deconvolved)}\")\n",
        "display(Audio(audio[:2*sample_rate], rate=sample_rate))\n",
        "display(Audio(audio_reverb[:2*sample_rate], rate=sample_rate))\n",
        "display(Audio(deconvolved[:2*sample_rate], rate=sample_rate))\n",
        "delta = audio - deconvolved\n",
        "print(f\"max: {np.max(delta)}, min: {np.min(delta)}, mse: {np.square(delta).mean()}\")\n",
        "plt.plot(delta[:2*sample_rate])\n",
        "plt.show()\n",
        "\n",
        "mes = []\n",
        "for expo in range(-10, 10, 1):\n",
        "  deconvolved = wiener_deconvolution(audio_reverb, art_IR, lambd=10**(expo))\n",
        "  mes.append([10**(expo), np.sqrt(np.square(np.subtract(deconvolved, audio)).mean())])\n",
        "\n",
        "mes"
      ],
      "metadata": {
        "id": "JhfDxmHJi1ud"
      },
      "execution_count": null,
      "outputs": []
    },
    {
      "cell_type": "code",
      "source": [
        "deconvolved = wiener_deconvolution(audio_reverb, art_IR_2, lambd=10**(-6))\n",
        "\n",
        "print(f\"max: {np.max(deconvolved)}, min: {np.min(deconvolved)}\")\n",
        "display(Audio(audio[:2*sample_rate], rate=sample_rate))\n",
        "display(Audio(audio_reverb[:2*sample_rate], rate=sample_rate))\n",
        "display(Audio(deconvolved[:2*sample_rate], rate=sample_rate))\n",
        "delta = audio - deconvolved\n",
        "print(f\"max: {np.max(delta)}, min: {np.min(delta)}, mse: {np.square(delta).mean()}\")\n",
        "plt.plot(delta[:2*sample_rate])\n",
        "plt.show()\n",
        "\n",
        "mes = []\n",
        "for expo in range(-10, 10, 1):\n",
        "  deconvolved = wiener_deconvolution(audio_reverb, art_IR_2, lambd=10**(expo))\n",
        "  mes.append([10**(expo), np.sqrt(np.square(np.subtract(deconvolved, audio)).mean())])\n",
        "\n",
        "mes"
      ],
      "metadata": {
        "id": "UAxcWnxxrWsI"
      },
      "execution_count": null,
      "outputs": []
    },
    {
      "cell_type": "code",
      "source": [
        "plt.plot(art_IR)\n",
        "plt.show()\n",
        "plt.plot(art_IR_2)\n",
        "plt.show()"
      ],
      "metadata": {
        "id": "FfrX1Dj1voKp"
      },
      "execution_count": null,
      "outputs": []
    },
    {
      "cell_type": "code",
      "source": [
        "delta = wiener_deconvolution(audio_reverb, art_IR_2, lambd=10**(-6)) - audio\n",
        "np.square(delta).mean()"
      ],
      "metadata": {
        "id": "L6OXttyC6hqA"
      },
      "execution_count": null,
      "outputs": []
    },
    {
      "cell_type": "code",
      "source": [
        "from scipy.optimize import minimize\n",
        "\n",
        "def fun(X):\n",
        "  delta = wiener_deconvolution(audio_reverb, art_IR_2 + X, lambd=10**(-6)) - audio\n",
        "  return np.square(delta).mean()\n",
        "\n",
        "X0 = np.zeros(len(art_IR_2))\n",
        "result = minimize(fun, X0, method='CG', options={'maxiter': 10, 'disp': True})"
      ],
      "metadata": {
        "id": "mkGaiNgo02zl"
      },
      "execution_count": null,
      "outputs": []
    },
    {
      "cell_type": "code",
      "source": [
        "deconvolved_2 = wiener_deconvolution(audio_reverb, art_IR_2 + result.x, lambd=10**(-6))\n",
        "display(Audio(audio[:2*sample_rate], rate=sample_rate))\n",
        "display(Audio(audio_reverb[:2*sample_rate], rate=sample_rate))\n",
        "display(Audio(deconvolved[:2*sample_rate], rate=sample_rate))\n",
        "display(Audio(deconvolved_2[:2*sample_rate], rate=sample_rate))"
      ],
      "metadata": {
        "id": "ZPtO0Mos3b4M"
      },
      "execution_count": null,
      "outputs": []
    }
  ]
}