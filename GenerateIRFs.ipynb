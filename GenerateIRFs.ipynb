{
  "nbformat": 4,
  "nbformat_minor": 0,
  "metadata": {
    "colab": {
      "name": "GenerateIRFs.ipynb",
      "provenance": [],
      "collapsed_sections": [],
      "authorship_tag": "ABX9TyNdvzxEY4sJ+UJ5yvhIQATt",
      "include_colab_link": true
    },
    "kernelspec": {
      "name": "python3",
      "display_name": "Python 3"
    },
    "language_info": {
      "name": "python"
    }
  },
  "cells": [
    {
      "cell_type": "markdown",
      "metadata": {
        "id": "view-in-github",
        "colab_type": "text"
      },
      "source": [
        "<a href=\"https://colab.research.google.com/github/jakobatgithub/unreverb/blob/main/GenerateIRFs.ipynb\" target=\"_parent\"><img src=\"https://colab.research.google.com/assets/colab-badge.svg\" alt=\"Open In Colab\"/></a>"
      ]
    },
    {
      "cell_type": "code",
      "source": [
        "!pip install rir_generator"
      ],
      "metadata": {
        "id": "aeKW1NkKImWq"
      },
      "execution_count": null,
      "outputs": []
    },
    {
      "cell_type": "code",
      "execution_count": 2,
      "metadata": {
        "colab": {
          "base_uri": "https://localhost:8080/"
        },
        "id": "RswSDBKzHzyq",
        "outputId": "22677a51-1000-4c56-a3e6-e4560730d212"
      },
      "outputs": [
        {
          "output_type": "stream",
          "name": "stdout",
          "text": [
            "Collecting rir_generator\n",
            "  Downloading rir-generator-0.1.0.tar.gz (8.6 kB)\n",
            "Requirement already satisfied: numpy>=1.6 in /usr/local/lib/python3.7/dist-packages (from rir_generator) (1.21.5)\n",
            "Requirement already satisfied: scipy>=0.13.0 in /usr/local/lib/python3.7/dist-packages (from rir_generator) (1.4.1)\n",
            "Requirement already satisfied: cffi>=1.1.0 in /usr/local/lib/python3.7/dist-packages (from rir_generator) (1.15.0)\n",
            "Requirement already satisfied: pycparser in /usr/local/lib/python3.7/dist-packages (from cffi>=1.1.0->rir_generator) (2.21)\n",
            "Building wheels for collected packages: rir-generator\n",
            "  Building wheel for rir-generator (setup.py) ... \u001b[?25l\u001b[?25hdone\n",
            "  Created wheel for rir-generator: filename=rir_generator-0.1.0-cp37-cp37m-linux_x86_64.whl size=29984 sha256=5c9706c81b6a5a2f6ca3a9aa184a8766f07680042bf237f05e0d30ea8dbbdf38\n",
            "  Stored in directory: /root/.cache/pip/wheels/f2/b8/44/24e3838f71aebbd5ce66bce52ffa435649fbb723a4e85544bc\n",
            "Successfully built rir-generator\n",
            "Installing collected packages: rir-generator\n",
            "Successfully installed rir-generator-0.1.0\n",
            "(8000, 1)\n",
            "(8000, 1)\n",
            "(8000, 1)\n"
          ]
        }
      ],
      "source": [
        "import numpy as np\n",
        "import scipy.signal as ss\n",
        "import soundfile as sf\n",
        "import rir_generator as rir\n",
        "\n",
        "# A script to generate the Impulse Response (IR) Functions of a rectangular room\n",
        "# of a given size with given receiver and source positions and given Reverberation time T60.\n",
        "\n",
        "# https://github.com/audiolabs/rir-generator\n",
        "# pip install rir-generator\n",
        "# pip install SoundFile\n",
        "\n",
        "#signal, fs = sf.read(\"bark.wav\", always_2d=True)\n",
        "\n",
        "samplerate = 8000\n",
        "\n",
        "reverberation_times = [0.4, 0.6, 0.8]\n",
        "idx = 0\n",
        "for reverberation_time in reverberation_times:\n",
        "    IR_data = rir.generate(\n",
        "    \tc=340,                  # Sound velocity (m/s)\n",
        "    \tfs=samplerate,                  # Sample frequency (samples/s)\n",
        "    \tr=[                     # Receiver position(s) [x y z] (m)\n",
        "    \t    [4.5, 2.5, 1.5]\n",
        "    \t],\n",
        "    \ts=[0.5, 2.5, 1.5],          # Source position [x y z] (m)\n",
        "    \tL=[5, 5, 3],            # Room dimensions [x y z] (m)\n",
        "    \treverberation_time=reverberation_time, # Reverberation time T60 (s)\n",
        "    \tnsample=samplerate,           # Number of output samples\n",
        "\t)\n",
        "    print(IR_data.shape)\n",
        "    #sf.write('random_IRs/IRF_'+str(idx)+'.wav', IR_data, samplerate)\n",
        "\t#print(signal.shape)\n",
        "\t# Convolve 2-channel signal with 3 impulse responses\n",
        "\t#signal = ss.convolve(IR_data, signal)\n",
        "\t#print(signal.shape)\n",
        "\n",
        "    idx = idx +1"
      ]
    }
  ]
}