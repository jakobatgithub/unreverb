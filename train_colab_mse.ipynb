{
  "nbformat": 4,
  "nbformat_minor": 0,
  "metadata": {
    "accelerator": "GPU",
    "colab": {
      "name": "current_guitarLSTM2.ipynb",
      "provenance": [],
      "collapsed_sections": []
    },
    "kernelspec": {
      "display_name": "Python 3",
      "language": "python",
      "name": "python3"
    },
    "language_info": {
      "codemirror_mode": {
        "name": "ipython",
        "version": 3
      },
      "file_extension": ".py",
      "mimetype": "text/x-python",
      "name": "python",
      "nbconvert_exporter": "python",
      "pygments_lexer": "ipython3",
      "version": "3.7.7"
    }
  },
  "cells": [
    {
      "cell_type": "code",
      "metadata": {
        "id": "RF2uyPfxgi8H"
      },
      "source": [
        "# TO USE: \n",
        "#    1. Upload your recorded tone sample .wav file from the SmartAmpPro plugin.\n",
        "#        Note: Optionally, upload two separate .wav files and set flags for two inputs\n",
        "#        Note: Currently supports 32 Bit FLoating Point Wav, or 16 Bit PCM;\n",
        "#                Using 16 Bit PCM (CD quality) allows for smaller .wav files\n",
        "#    2. Select a runtime (GPU recommended)\n",
        "#    3. Change the \"in_file\" variable to match your uploaded file. \n",
        "#        Note: If two .wav files used, set \"out_file\" to match uploaded file\n",
        "#    4 Change the \"name\" file to the desired model name\n",
        "#    5. Click \"Runtime\" then \"Run All\"\n",
        "#\n",
        "#     Note: Tested on CPU and GPU runtimes.\n",
        "#     Note: Uses MSE for loss calculation instead of Error to Signal with Pre-emphasis filter\n",
        "\n",
        "# EDIT THIS SECTION FOR USER INPUTS ###########################################\n",
        "#\n",
        "name = 'my_model'\n",
        "in_file = '/content/drive/My Drive/dsr_project/data/sound_with_reverb/SIHarvardWordListsFemale_with_reverb.wav'\n",
        "\n",
        "# If using two mono .wav files, enter uploaded out_file here\n",
        "# If using a single stereo .wav file recorded from SmartAmpPro,\n",
        "#    ensure out_file=''\n",
        "out_file = '/content/drive/My Drive/dsr_project/data/HarvardWordList/SIHarvardWordListsFemale.wav'\n",
        "\n",
        "## Training Parameters\n",
        "epochs = 3  # Increase epochs to try extended training to improve model results \n",
        "learning_rate = 0.001  # Agressiveness of training\n",
        "hidden_units = 24     # Number of units in LSTM layer to train\n",
        "\n",
        "input_size = 120 # Using input_size greater than 140 will not work in SmartAmpPro\n",
        "\n",
        "batch_size = 4096 # Number of samples to train at a time\n",
        "test_size = 0.2 # Portion of input data to use in testing (.2 = 20%)\n",
        "###############################################################################\n",
        "\n",
        "import tensorflow as tf\n",
        "from tensorflow.keras import Sequential\n",
        "from tensorflow.keras.layers import LSTM, Conv1D, Dense\n",
        "from tensorflow.keras.optimizers import Adam\n",
        "from tensorflow.keras.backend import clear_session\n",
        "from tensorflow.keras.activations import tanh, elu, relu\n",
        "from tensorflow.keras.models import load_model\n",
        "import tensorflow.keras.backend as K\n",
        "from tensorflow.keras.utils import Sequence\n",
        "\n",
        "import os\n",
        "from scipy import signal\n",
        "from scipy.io import wavfile\n",
        "import numpy as np\n",
        "import matplotlib.pyplot as plt\n",
        "import math\n",
        "import h5py"
      ],
      "execution_count": 1,
      "outputs": []
    },
    {
      "cell_type": "code",
      "source": [
        "#from google.colab import drive\n",
        "#drive.mount('/content/drive')"
      ],
      "metadata": {
        "id": "fTuI4UzbsoUI"
      },
      "execution_count": 5,
      "outputs": []
    },
    {
      "cell_type": "code",
      "metadata": {
        "id": "U22mDBe4jaf2",
        "outputId": "b1a98506-90ab-4ace-f731-c8e9a83beffd",
        "colab": {
          "base_uri": "https://localhost:8080/"
        }
      },
      "source": [
        "if not os.path.exists('models/'+name):\n",
        "    os.makedirs('models/'+name)\n",
        "else:\n",
        "    print(\"A model with the same name already exists. Please choose a new name.\")\n",
        "    exit"
      ],
      "execution_count": 2,
      "outputs": [
        {
          "output_type": "stream",
          "name": "stdout",
          "text": [
            "A model with the same name already exists. Please choose a new name.\n"
          ]
        }
      ]
    },
    {
      "cell_type": "code",
      "metadata": {
        "id": "1dOqZHalR5zf"
      },
      "source": [
        "class WindowArray(Sequence):\n",
        "        \n",
        "    def __init__(self, x, y, window_len, batch_size=32):\n",
        "        self.x = x\n",
        "        self.y = y[window_len-1:] \n",
        "        self.window_len = window_len\n",
        "        self.batch_size = batch_size\n",
        "        \n",
        "    def __len__(self):\n",
        "        return (len(self.x) - self.window_len +1) // self.batch_size\n",
        "    \n",
        "    def __getitem__(self, index):\n",
        "        x_out = np.stack([self.x[idx: idx+self.window_len] for idx in range(index*self.batch_size, (index+1)*self.batch_size)])\n",
        "        y_out = self.y[index*self.batch_size:(index+1)*self.batch_size]\n",
        "        return x_out, y_out"
      ],
      "execution_count": 3,
      "outputs": []
    },
    {
      "cell_type": "code",
      "metadata": {
        "id": "WqI-cGt1jaG2",
        "outputId": "13a3fcad-a864-4d1f-a04f-0d066389205c",
        "colab": {
          "base_uri": "https://localhost:8080/"
        }
      },
      "source": [
        "def save_wav(name, data):\n",
        "    wavfile.write(name, 8000, data.flatten().astype(np.float32))\n",
        "\n",
        "def normalize(data):\n",
        "    data_max = max(data)\n",
        "    data_min = min(data)\n",
        "    data_norm = max(data_max,abs(data_min))\n",
        "    return data / data_norm\n",
        "\n",
        "\n",
        "'''This is a similar Tensorflow/Keras implementation of the LSTM model from the paper:\n",
        "    \"Real-Time Guitar Amplifier Emulation with Deep Learning\"\n",
        "    https://www.mdpi.com/2076-3417/10/3/766/htm\n",
        "\n",
        "    Uses a stack of two 1-D Convolutional layers, followed by LSTM, followed by \n",
        "    a Dense (fully connected) layer. Three preset training modes are available, \n",
        "    with further customization by editing the code. A Sequential tf.keras model \n",
        "    is implemented here.\n",
        "'''\n",
        "# Preset parameters specifically for running in SmartAmpPro\n",
        "conv1d_strides = 12\n",
        "conv1d_1_strides = 12   \n",
        "conv1d_filters = 4\n",
        "\n",
        "conv1d_KS = conv1d_strides \n",
        "conv1d_1_KS = conv1d_1_strides\n",
        "\n",
        "# Create Sequential Model ###########################################\n",
        "clear_session()\n",
        "model = Sequential()\n",
        "model.add(Conv1D(conv1d_filters, 12,strides=conv1d_strides, activation=None, padding='same',input_shape=(input_size,1)))\n",
        "model.add(Conv1D(conv1d_filters, 12,strides=conv1d_strides, activation=None, padding='same'))\n",
        "model.add(LSTM(hidden_units))\n",
        "model.add(Dense(1, activation=None))\n",
        "model.compile(optimizer=Adam(learning_rate=learning_rate), loss='mse', metrics=['mse'])\n",
        "model.summary()\n",
        "\n",
        "# Load and Preprocess Data ###########################################\n",
        "in_rate, stereo_data = wavfile.read(in_file)\n",
        "\n",
        "# If a second wav file is provided, assume each file is mono and load data\n",
        "if out_file != \"\":\n",
        "    out_rate, out_data = wavfile.read(out_file)\n",
        "    #out_data = out_data.T[0]\n",
        "    in_data = stereo_data\n",
        "# Else, use the stereo wav file channel 1 and channel 2 for training data\n",
        "else:\n",
        "    in_data = stereo_data.T[0]\n",
        "    out_data = stereo_data.T[1]\n",
        "\n",
        "X_all = in_data.astype(np.float32).flatten()  \n",
        "X_all = normalize(X_all).reshape(len(X_all),1)   \n",
        "y_all = out_data.astype(np.float32).flatten() \n",
        "y_all = normalize(y_all).reshape(len(y_all),1)\n",
        "\n",
        "train_examples = int(len(X_all)*0.8)\n",
        "train_arr = WindowArray(X_all[:train_examples], y_all[:train_examples], input_size, batch_size=batch_size)\n",
        "val_arr = WindowArray(X_all[train_examples:], y_all[train_examples:], input_size, batch_size=batch_size)\n",
        "\n",
        "# Train Model ###################################################\n",
        "history = model.fit(train_arr, validation_data=val_arr, epochs=epochs, shuffle=True)    \n",
        "#model.save('models/'+name+'/'+name+'.h5')\n",
        "\n",
        "# Run Prediction #################################################\n",
        "print(\"Running prediction..\")\n",
        "\n",
        "# Get the last 20% of the wav data to run prediction and plot results\n",
        "y_the_rest, y_last_part = np.split(y_all, [int(len(y_all)*.8)])\n",
        "x_the_rest, x_last_part = np.split(X_all, [int(len(X_all)*.8)])\n",
        "y_test = y_last_part[input_size-1:] \n",
        "test_arr = WindowArray(x_last_part, y_last_part, input_size, batch_size = batch_size)\n",
        "\n",
        "prediction = model.predict(test_arr)\n",
        "\n",
        "save_wav('/content/drive/My Drive/dsr_project/data/sound_with_reverb/y_pred.wav', prediction)\n",
        "save_wav('/content/drive/My Drive/dsr_project/data/sound_with_reverb/y_test.wav', y_last_part)\n",
        "save_wav('/content/drive/My Drive/dsr_project/data/sound_with_reverb/x_test.wav', x_last_part)\n",
        "#save_wav('/content/drive/My Drive/dsr_project/data/sound_with_reverb/y_test.wav', y_test)\n",
        "\n",
        "# Add additional data to the saved model (like input_size)\n",
        "#filename = 'models/'+name+'/'+name+'.h5'\n",
        "#f = h5py.File(filename, 'a')\n",
        "#grp = f.create_group(\"info\")\n",
        "#dset = grp.create_dataset(\"input_size\", (1,), dtype='int16')\n",
        "#dset[0] = input_size\n",
        "#dset2 = grp.create_dataset(\"conv1d_stride\", (1,), dtype='int16')\n",
        "#dset3 = grp.create_dataset(\"conv1d_1_stride\", (1,), dtype='int16')\n",
        "#dset[0] = input_size\n",
        "#dset2[0] = conv1d_strides\n",
        "#dset3[0] = conv1d_1_strides\n",
        "#f.close()"
      ],
      "execution_count": null,
      "outputs": [
        {
          "output_type": "stream",
          "name": "stdout",
          "text": [
            "Model: \"sequential\"\n",
            "_________________________________________________________________\n",
            " Layer (type)                Output Shape              Param #   \n",
            "=================================================================\n",
            " conv1d (Conv1D)             (None, 10, 4)             52        \n",
            "                                                                 \n",
            " conv1d_1 (Conv1D)           (None, 1, 4)              196       \n",
            "                                                                 \n",
            " lstm (LSTM)                 (None, 24)                2784      \n",
            "                                                                 \n",
            " dense (Dense)               (None, 1)                 25        \n",
            "                                                                 \n",
            "=================================================================\n",
            "Total params: 3,057\n",
            "Trainable params: 3,057\n",
            "Non-trainable params: 0\n",
            "_________________________________________________________________\n"
          ]
        },
        {
          "output_type": "stream",
          "name": "stderr",
          "text": [
            "/usr/local/lib/python3.7/dist-packages/ipykernel_launcher.py:43: WavFileWarning: Chunk (non-data) not understood, skipping it.\n"
          ]
        },
        {
          "output_type": "stream",
          "name": "stdout",
          "text": [
            "Epoch 1/3\n",
            "443/443 [==============================] - 9s 15ms/step - loss: 0.0067 - mse: 0.0067 - val_loss: 0.0044 - val_mse: 0.0044\n",
            "Epoch 2/3\n",
            "443/443 [==============================] - 6s 14ms/step - loss: 0.0067 - mse: 0.0067 - val_loss: 0.0044 - val_mse: 0.0044\n",
            "Epoch 3/3\n",
            "151/443 [=========>....................] - ETA: 3s - loss: 0.0060 - mse: 0.0060"
          ]
        }
      ]
    },
    {
      "cell_type": "code",
      "source": [
        "print(y_last_part.shape)\n",
        "print(x_last_part.shape)"
      ],
      "metadata": {
        "id": "rdzGDVZr5hVk",
        "outputId": "1322669a-4dca-444f-dfc6-b43c202f50e3",
        "colab": {
          "base_uri": "https://localhost:8080/"
        }
      },
      "execution_count": 20,
      "outputs": [
        {
          "output_type": "stream",
          "name": "stdout",
          "text": [
            "(2506056, 1)\n",
            "(454614, 1)\n"
          ]
        }
      ]
    },
    {
      "cell_type": "code",
      "source": [
        "save_wav('/content/drive/My Drive/dsr_project/data/sound_with_reverb/y_pred.wav', prediction)"
      ],
      "metadata": {
        "id": "clPaLOnV5R1c",
        "outputId": "d32d7b9e-6490-4cad-9257-8c386f48e9c1",
        "colab": {
          "base_uri": "https://localhost:8080/"
        }
      },
      "execution_count": 8,
      "outputs": [
        {
          "output_type": "execute_result",
          "data": {
            "text/plain": [
              "array([[ 0.0000000e+00],\n",
              "       [ 0.0000000e+00],\n",
              "       [ 0.0000000e+00],\n",
              "       ...,\n",
              "       [ 0.0000000e+00],\n",
              "       [-3.2323755e-05],\n",
              "       [ 0.0000000e+00]], dtype=float32)"
            ]
          },
          "metadata": {},
          "execution_count": 8
        }
      ]
    },
    {
      "cell_type": "code",
      "source": [
        "signal1 = prediction\n",
        "signal2 = y_test\n",
        "signal3 = x_last_part\n",
        "\n",
        "error_list_0 = []\n",
        "for s1, s2 in zip(signal1, signal2):\n",
        "  error_list_0.append(abs(s2 - s1))\n",
        "\n",
        "error_list_1 = []\n",
        "for s2, s3 in zip(signal2, signal3):\n",
        "  error_list_1.append(abs(s3 - s2))\n",
        "\n",
        "print(np.sum(error_list_0)/len(error_list_0))\n",
        "print(np.sum(error_list_1)/len(error_list_1))"
      ],
      "metadata": {
        "id": "GvNhrUB8vUON",
        "outputId": "b59be3ca-18f8-472e-8b13-a52e9e600860",
        "colab": {
          "base_uri": "https://localhost:8080/"
        }
      },
      "execution_count": 5,
      "outputs": [
        {
          "output_type": "stream",
          "name": "stdout",
          "text": [
            "0.04002610553394664\n",
            "0.060774733998238066\n"
          ]
        }
      ]
    },
    {
      "cell_type": "code",
      "metadata": {
        "id": "WygMJjMlSsV0",
        "outputId": "4593fd48-31f0-4373-8db4-bf6adfa1c645",
        "colab": {
          "base_uri": "https://localhost:8080/",
          "height": 530
        }
      },
      "source": [
        "# Generate json model ################################\n",
        "import json\n",
        "filename = 'models/'+name+'/'+ name +'.h5'\n",
        "json_filename = 'models/'+name+'/'+ name\n",
        "f = h5py.File(filename, 'r')\n",
        "\n",
        "# Load the model data\n",
        "data = {}\n",
        "for layer in f[\"model_weights\"].keys():\n",
        "    if layer not in data.keys():\n",
        "        data[layer] = {}\n",
        "    for item in f[\"model_weights\"][layer][layer]:\n",
        "        if item not in data[layer].keys():\n",
        "            data[layer][item] = {}\n",
        "            try:\n",
        "                data[layer][item] = f[\"model_weights\"][layer][layer][item][:].tolist()\n",
        "            except:\n",
        "                data[layer][\"kernel:0\"] = f[\"model_weights\"][layer][layer][item][\"kernel:0\"][:].tolist()\n",
        "                data[layer][\"bias:0\"] = f[\"model_weights\"][layer][layer][item][\"bias:0\"][:].tolist()\n",
        "        else:\n",
        "            try:\n",
        "                data[layer][item] = f[\"model_weights\"][layer][layer][item][:].tolist()\n",
        "            except:\n",
        "                data[layer][\"kernel:0\"] = f[\"model_weights\"][layer][layer][item][\"kernel:0\"][:].tolist()\n",
        "                data[layer][\"bias:0\"] = f[\"model_weights\"][layer][layer][item][\"bias:0\"][:].tolist()\n",
        "\n",
        "input_size = f[\"info\"][\"input_size\"][0]\n",
        "conv1d_strides = f[\"info\"][\"conv1d_stride\"][0]\n",
        "conv1d_1_strides = f[\"info\"][\"conv1d_1_stride\"][0]\n",
        "data['input_size'] = int(input_size)\n",
        "print(\"input_size: \",input_size)\n",
        "data['conv1d_stride'] = int(conv1d_strides)\n",
        "data['conv1d_1_stride'] = int(conv1d_1_strides)\n",
        "f.close()\n",
        "\n",
        "with open(json_filename + \".json\", 'w') as outfile:\n",
        "    json.dump(data, outfile)\n",
        "print(\"SmartAmpPro model generated: \", json_filename + \".json\")"
      ],
      "execution_count": 9,
      "outputs": [
        {
          "output_type": "error",
          "ename": "KeyError",
          "evalue": "ignored",
          "traceback": [
            "\u001b[0;31m---------------------------------------------------------------------------\u001b[0m",
            "\u001b[0;31mKeyError\u001b[0m                                  Traceback (most recent call last)",
            "\u001b[0;32m<ipython-input-9-a32118d45ddd>\u001b[0m in \u001b[0;36m<module>\u001b[0;34m()\u001b[0m\n\u001b[1;32m     10\u001b[0m     \u001b[0;32mif\u001b[0m \u001b[0mlayer\u001b[0m \u001b[0;32mnot\u001b[0m \u001b[0;32min\u001b[0m \u001b[0mdata\u001b[0m\u001b[0;34m.\u001b[0m\u001b[0mkeys\u001b[0m\u001b[0;34m(\u001b[0m\u001b[0;34m)\u001b[0m\u001b[0;34m:\u001b[0m\u001b[0;34m\u001b[0m\u001b[0;34m\u001b[0m\u001b[0m\n\u001b[1;32m     11\u001b[0m         \u001b[0mdata\u001b[0m\u001b[0;34m[\u001b[0m\u001b[0mlayer\u001b[0m\u001b[0;34m]\u001b[0m \u001b[0;34m=\u001b[0m \u001b[0;34m{\u001b[0m\u001b[0;34m}\u001b[0m\u001b[0;34m\u001b[0m\u001b[0;34m\u001b[0m\u001b[0m\n\u001b[0;32m---> 12\u001b[0;31m     \u001b[0;32mfor\u001b[0m \u001b[0mitem\u001b[0m \u001b[0;32min\u001b[0m \u001b[0mf\u001b[0m\u001b[0;34m[\u001b[0m\u001b[0;34m\"model_weights\"\u001b[0m\u001b[0;34m]\u001b[0m\u001b[0;34m[\u001b[0m\u001b[0mlayer\u001b[0m\u001b[0;34m]\u001b[0m\u001b[0;34m[\u001b[0m\u001b[0mlayer\u001b[0m\u001b[0;34m]\u001b[0m\u001b[0;34m:\u001b[0m\u001b[0;34m\u001b[0m\u001b[0;34m\u001b[0m\u001b[0m\n\u001b[0m\u001b[1;32m     13\u001b[0m         \u001b[0;32mif\u001b[0m \u001b[0mitem\u001b[0m \u001b[0;32mnot\u001b[0m \u001b[0;32min\u001b[0m \u001b[0mdata\u001b[0m\u001b[0;34m[\u001b[0m\u001b[0mlayer\u001b[0m\u001b[0;34m]\u001b[0m\u001b[0;34m.\u001b[0m\u001b[0mkeys\u001b[0m\u001b[0;34m(\u001b[0m\u001b[0;34m)\u001b[0m\u001b[0;34m:\u001b[0m\u001b[0;34m\u001b[0m\u001b[0;34m\u001b[0m\u001b[0m\n\u001b[1;32m     14\u001b[0m             \u001b[0mdata\u001b[0m\u001b[0;34m[\u001b[0m\u001b[0mlayer\u001b[0m\u001b[0;34m]\u001b[0m\u001b[0;34m[\u001b[0m\u001b[0mitem\u001b[0m\u001b[0;34m]\u001b[0m \u001b[0;34m=\u001b[0m \u001b[0;34m{\u001b[0m\u001b[0;34m}\u001b[0m\u001b[0;34m\u001b[0m\u001b[0;34m\u001b[0m\u001b[0m\n",
            "\u001b[0;32mh5py/_objects.pyx\u001b[0m in \u001b[0;36mh5py._objects.with_phil.wrapper\u001b[0;34m()\u001b[0m\n",
            "\u001b[0;32mh5py/_objects.pyx\u001b[0m in \u001b[0;36mh5py._objects.with_phil.wrapper\u001b[0;34m()\u001b[0m\n",
            "\u001b[0;32m/usr/local/lib/python3.7/dist-packages/h5py/_hl/group.py\u001b[0m in \u001b[0;36m__getitem__\u001b[0;34m(self, name)\u001b[0m\n\u001b[1;32m    286\u001b[0m                 \u001b[0;32mraise\u001b[0m \u001b[0mValueError\u001b[0m\u001b[0;34m(\u001b[0m\u001b[0;34m\"Invalid HDF5 object reference\"\u001b[0m\u001b[0;34m)\u001b[0m\u001b[0;34m\u001b[0m\u001b[0;34m\u001b[0m\u001b[0m\n\u001b[1;32m    287\u001b[0m         \u001b[0;32melse\u001b[0m\u001b[0;34m:\u001b[0m\u001b[0;34m\u001b[0m\u001b[0;34m\u001b[0m\u001b[0m\n\u001b[0;32m--> 288\u001b[0;31m             \u001b[0moid\u001b[0m \u001b[0;34m=\u001b[0m \u001b[0mh5o\u001b[0m\u001b[0;34m.\u001b[0m\u001b[0mopen\u001b[0m\u001b[0;34m(\u001b[0m\u001b[0mself\u001b[0m\u001b[0;34m.\u001b[0m\u001b[0mid\u001b[0m\u001b[0;34m,\u001b[0m \u001b[0mself\u001b[0m\u001b[0;34m.\u001b[0m\u001b[0m_e\u001b[0m\u001b[0;34m(\u001b[0m\u001b[0mname\u001b[0m\u001b[0;34m)\u001b[0m\u001b[0;34m,\u001b[0m \u001b[0mlapl\u001b[0m\u001b[0;34m=\u001b[0m\u001b[0mself\u001b[0m\u001b[0;34m.\u001b[0m\u001b[0m_lapl\u001b[0m\u001b[0;34m)\u001b[0m\u001b[0;34m\u001b[0m\u001b[0;34m\u001b[0m\u001b[0m\n\u001b[0m\u001b[1;32m    289\u001b[0m \u001b[0;34m\u001b[0m\u001b[0m\n\u001b[1;32m    290\u001b[0m         \u001b[0motype\u001b[0m \u001b[0;34m=\u001b[0m \u001b[0mh5i\u001b[0m\u001b[0;34m.\u001b[0m\u001b[0mget_type\u001b[0m\u001b[0;34m(\u001b[0m\u001b[0moid\u001b[0m\u001b[0;34m)\u001b[0m\u001b[0;34m\u001b[0m\u001b[0;34m\u001b[0m\u001b[0m\n",
            "\u001b[0;32mh5py/_objects.pyx\u001b[0m in \u001b[0;36mh5py._objects.with_phil.wrapper\u001b[0;34m()\u001b[0m\n",
            "\u001b[0;32mh5py/_objects.pyx\u001b[0m in \u001b[0;36mh5py._objects.with_phil.wrapper\u001b[0;34m()\u001b[0m\n",
            "\u001b[0;32mh5py/h5o.pyx\u001b[0m in \u001b[0;36mh5py.h5o.open\u001b[0;34m()\u001b[0m\n",
            "\u001b[0;31mKeyError\u001b[0m: \"Unable to open object (object 'top_level_model_weights' doesn't exist)\""
          ]
        }
      ]
    },
    {
      "cell_type": "code",
      "metadata": {
        "id": "hf-zAc_cS5Uu",
        "outputId": "5cfeac58-0cb3-4c61-8382-cc44c967e126",
        "colab": {
          "base_uri": "https://localhost:8080/",
          "height": 875
        }
      },
      "source": [
        "# Model Evaluation and Plotting\n",
        "\n",
        "def read_wave(wav_file):\n",
        "    # Extract Audio and framerate from Wav File\n",
        "    fs, signal = wavfile.read(wav_file)\n",
        "    return signal, fs\n",
        "\n",
        "\n",
        "def analyze_pred_vs_actual(output_wav, pred_wav, input_wav, model_name, show_plots, path):\n",
        "    \"\"\"Generate plots to analyze the predicted signal vs the actual\n",
        "    signal.\n",
        "\n",
        "    Inputs:\n",
        "        output_wav : The actual signal, by default will use y_test.wav from the test.py output\n",
        "        pred_wav : The predicted signal, by default will use y_pred.wav from the test.py output\n",
        "        input_wav : The pre effect signal, by default will use x_test.wav from the test.py output\n",
        "        model_name : Used to add the model name to the plot .png filename\n",
        "        path   :   The save path for generated .png figures\n",
        "        show_plots : Default is 1 to show plots, 0 to only generate .png files and suppress plots\n",
        "\n",
        "    \"\"\"\n",
        "\n",
        "    # Read the input wav file\n",
        "    signal3, fs3 = read_wave(input_wav)\n",
        "\n",
        "    # Read the output wav file\n",
        "    signal1, fs = read_wave(output_wav)\n",
        "\n",
        "    Time = np.linspace(0, len(signal1) / fs, num=len(signal1))\n",
        "    fig, (ax1, ax3) = plt.subplots(2, sharex=True, figsize=(13, 8))\n",
        "    fig.suptitle(\"Predicted vs Actual Signal\")\n",
        "    ax1.plot(Time, signal1, label=output_wav, color=\"red\")\n",
        "\n",
        "    # Read the predicted wav file\n",
        "    signal2, fs2 = read_wave(pred_wav)\n",
        "\n",
        "    Time2 = np.linspace(0, len(signal2) / fs2, num=len(signal2))\n",
        "    ax1.plot(Time2, signal2, label=pred_wav, color=\"green\")\n",
        "    ax1.legend(loc=\"upper right\")\n",
        "    ax1.set_xlabel(\"Time (s)\")\n",
        "    ax1.set_ylabel(\"Amplitude\")\n",
        "    ax1.set_title(\"Wav File Comparison\")\n",
        "    ax1.grid(\"on\")\n",
        "\n",
        "    error_list = []\n",
        "    for s1, s2 in zip(signal1, signal2):\n",
        "        error_list.append(abs(s2 - s1))\n",
        "\n",
        "\n",
        "    # Plot the original signal\n",
        "    Time3 = np.linspace(0, len(signal3) / fs3, num=len(signal3))\n",
        "    ax3.plot(Time3, signal3, label=input_wav, color=\"purple\")\n",
        "    ax3.legend(loc=\"upper right\")\n",
        "    ax3.set_xlabel(\"Time (s)\")\n",
        "    ax3.set_ylabel(\"Amplitude\")\n",
        "    ax3.set_title(\"Original Input\")\n",
        "    ax3.grid(\"on\")\n",
        "\n",
        "    # Save the plot\n",
        "    plt.savefig(path+'/'+model_name + \"_signal_comparison.png\", bbox_inches=\"tight\")\n",
        "    # Create a zoomed in plot of 0.01 seconds centered at the max input signal value\n",
        "    sig_temp = signal1.tolist()\n",
        "    plt.axis(\n",
        "        [\n",
        "            Time3[sig_temp.index((max(sig_temp)))] - 0.005,\n",
        "            Time3[sig_temp.index((max(sig_temp)))] + 0.005,\n",
        "            min(signal2),\n",
        "            max(signal2),\n",
        "        ]\n",
        "    )\n",
        "   \n",
        "    plt.savefig(path+'/'+model_name + \"_Detail_signal_comparison.png\", bbox_inches=\"tight\")\n",
        "    plt.show() # Uncomment this line to show Detail plot\n",
        "    # Reset the axis\n",
        "    plt.axis([0, Time3[-1], min(signal2), max(signal2)])\n",
        "\n",
        "\n",
        "print(\"Plotting results..\")\n",
        "\n",
        "\n",
        "analyze_pred_vs_actual('models/'+name+'/y_test.wav',\n",
        "                       'models/'+name+'/y_pred.wav', \n",
        "                       'models/'+name+'/x_test.wav',\n",
        "                       name,\n",
        "                       1,\n",
        "                       'models/'+name)"
      ],
      "execution_count": 10,
      "outputs": [
        {
          "output_type": "stream",
          "name": "stdout",
          "text": [
            "Plotting results..\n"
          ]
        },
        {
          "output_type": "error",
          "ename": "IndexError",
          "evalue": "ignored",
          "traceback": [
            "\u001b[0;31m---------------------------------------------------------------------------\u001b[0m",
            "\u001b[0;31mIndexError\u001b[0m                                Traceback (most recent call last)",
            "\u001b[0;32m<ipython-input-10-b6b6d8112448>\u001b[0m in \u001b[0;36m<module>\u001b[0;34m()\u001b[0m\n\u001b[1;32m     84\u001b[0m                        \u001b[0mname\u001b[0m\u001b[0;34m,\u001b[0m\u001b[0;34m\u001b[0m\u001b[0;34m\u001b[0m\u001b[0m\n\u001b[1;32m     85\u001b[0m                        \u001b[0;36m1\u001b[0m\u001b[0;34m,\u001b[0m\u001b[0;34m\u001b[0m\u001b[0;34m\u001b[0m\u001b[0m\n\u001b[0;32m---> 86\u001b[0;31m                        'models/'+name)\n\u001b[0m",
            "\u001b[0;32m<ipython-input-10-b6b6d8112448>\u001b[0m in \u001b[0;36manalyze_pred_vs_actual\u001b[0;34m(output_wav, pred_wav, input_wav, model_name, show_plots, path)\u001b[0m\n\u001b[1;32m     63\u001b[0m     plt.axis(\n\u001b[1;32m     64\u001b[0m         [\n\u001b[0;32m---> 65\u001b[0;31m             \u001b[0mTime3\u001b[0m\u001b[0;34m[\u001b[0m\u001b[0msig_temp\u001b[0m\u001b[0;34m.\u001b[0m\u001b[0mindex\u001b[0m\u001b[0;34m(\u001b[0m\u001b[0;34m(\u001b[0m\u001b[0mmax\u001b[0m\u001b[0;34m(\u001b[0m\u001b[0msig_temp\u001b[0m\u001b[0;34m)\u001b[0m\u001b[0;34m)\u001b[0m\u001b[0;34m)\u001b[0m\u001b[0;34m]\u001b[0m \u001b[0;34m-\u001b[0m \u001b[0;36m0.005\u001b[0m\u001b[0;34m,\u001b[0m\u001b[0;34m\u001b[0m\u001b[0;34m\u001b[0m\u001b[0m\n\u001b[0m\u001b[1;32m     66\u001b[0m             \u001b[0mTime3\u001b[0m\u001b[0;34m[\u001b[0m\u001b[0msig_temp\u001b[0m\u001b[0;34m.\u001b[0m\u001b[0mindex\u001b[0m\u001b[0;34m(\u001b[0m\u001b[0;34m(\u001b[0m\u001b[0mmax\u001b[0m\u001b[0;34m(\u001b[0m\u001b[0msig_temp\u001b[0m\u001b[0;34m)\u001b[0m\u001b[0;34m)\u001b[0m\u001b[0;34m)\u001b[0m\u001b[0;34m]\u001b[0m \u001b[0;34m+\u001b[0m \u001b[0;36m0.005\u001b[0m\u001b[0;34m,\u001b[0m\u001b[0;34m\u001b[0m\u001b[0;34m\u001b[0m\u001b[0m\n\u001b[1;32m     67\u001b[0m             \u001b[0mmin\u001b[0m\u001b[0;34m(\u001b[0m\u001b[0msignal2\u001b[0m\u001b[0;34m)\u001b[0m\u001b[0;34m,\u001b[0m\u001b[0;34m\u001b[0m\u001b[0;34m\u001b[0m\u001b[0m\n",
            "\u001b[0;31mIndexError\u001b[0m: index 2614646 is out of bounds for axis 0 with size 454614"
          ]
        },
        {
          "output_type": "display_data",
          "data": {
            "text/plain": [
              "<Figure size 936x576 with 2 Axes>"
            ],
            "image/png": "[encoded data removed]"
          },
          "metadata": {
            "needs_background": "light"
          }
        }
      ]
    }
  ]
}